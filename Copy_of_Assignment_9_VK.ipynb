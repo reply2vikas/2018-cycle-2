{
  "nbformat": 4,
  "nbformat_minor": 0,
  "metadata": {
    "colab": {
      "name": "Copy of Assignment_9_VK.ipynb",
      "provenance": [],
      "collapsed_sections": [],
      "include_colab_link": true
    },
    "kernelspec": {
      "name": "python3",
      "display_name": "Python 3"
    },
    "accelerator": "GPU"
  },
  "cells": [
    {
      "cell_type": "markdown",
      "metadata": {
        "id": "view-in-github",
        "colab_type": "text"
      },
      "source": [
        "<a href=\"https://colab.research.google.com/github/reply2vikas/2018-cycle-2/blob/master/Copy_of_Assignment_9_VK.ipynb\" target=\"_parent\"><img src=\"https://colab.research.google.com/assets/colab-badge.svg\" alt=\"Open In Colab\"/></a>"
      ]
    },
    {
      "cell_type": "code",
      "metadata": {
        "id": "yh9QDxGzJnjK",
        "colab_type": "code",
        "outputId": "6907b156-b4ca-4464-cadf-f33326e88b4e",
        "colab": {
          "base_uri": "https://localhost:8080/",
          "height": 34
        }
      },
      "source": [
        "from keras import backend as K\n",
        "import time\n",
        "import matplotlib.pyplot as plt\n",
        "import numpy as np\n",
        "% matplotlib inline\n",
        "np.random.seed(2017) \n",
        "import keras.models\n",
        "from keras import regularizers\n",
        "from keras.models import Sequential\n",
        "from keras.layers.convolutional import Convolution2D, MaxPooling2D,AveragePooling2D\n",
        "from keras.layers import Activation, Flatten, Dense, Dropout\n",
        "from keras.layers.normalization import BatchNormalization\n",
        "from keras.utils import np_utils\n",
        "from keras.preprocessing.image import ImageDataGenerator\n",
        "\n",
        "\n",
        "from numpy.random import seed\n",
        "seed(1)\n",
        "from tensorflow import set_random_seed\n",
        "set_random_seed(2)"
      ],
      "execution_count": 0,
      "outputs": [
        {
          "output_type": "stream",
          "text": [
            "Using TensorFlow backend.\n"
          ],
          "name": "stderr"
        }
      ]
    },
    {
      "cell_type": "code",
      "metadata": {
        "id": "wV9UdKxXFY3Y",
        "colab_type": "code",
        "outputId": "35a27ba5-7318-46c6-c03e-8c32c53b90db",
        "colab": {
          "base_uri": "https://localhost:8080/",
          "height": 122
        }
      },
      "source": [
        "from google.colab import drive\n",
        "drive.mount('/content/drive/', force_remount=True )"
      ],
      "execution_count": 0,
      "outputs": [
        {
          "output_type": "stream",
          "text": [
            "Go to this URL in a browser: https://accounts.google.com/o/oauth2/auth?client_id=947318989803-6bn6qk8qdgf4n4g3pfee6491hc0brc4i.apps.googleusercontent.com&redirect_uri=urn%3Aietf%3Awg%3Aoauth%3A2.0%3Aoob&scope=email%20https%3A%2F%2Fwww.googleapis.com%2Fauth%2Fdocs.test%20https%3A%2F%2Fwww.googleapis.com%2Fauth%2Fdrive%20https%3A%2F%2Fwww.googleapis.com%2Fauth%2Fdrive.photos.readonly%20https%3A%2F%2Fwww.googleapis.com%2Fauth%2Fpeopleapi.readonly&response_type=code\n",
            "\n",
            "Enter your authorization code:\n",
            "··········\n",
            "Mounted at /content/drive/\n"
          ],
          "name": "stdout"
        }
      ]
    },
    {
      "cell_type": "code",
      "metadata": {
        "id": "mOUTkMpidTLY",
        "colab_type": "code",
        "outputId": "87f32f14-a33d-45e9-b5fa-3fcfcade7605",
        "colab": {
          "base_uri": "https://localhost:8080/",
          "height": 34
        }
      },
      "source": [
        "import os\n",
        "os.listdir('../content/drive/My Drive/EVA_Proj/')"
      ],
      "execution_count": 0,
      "outputs": [
        {
          "output_type": "execute_result",
          "data": {
            "text/plain": [
              "['model_before.h5', 'model_after.h5']"
            ]
          },
          "metadata": {
            "tags": []
          },
          "execution_count": 3
        }
      ]
    },
    {
      "cell_type": "code",
      "metadata": {
        "id": "YFnKln7vdlRm",
        "colab_type": "code",
        "outputId": "f43bb6f1-611c-49b7-bd36-9f650206a8f1",
        "colab": {
          "base_uri": "https://localhost:8080/",
          "height": 51
        }
      },
      "source": [
        "from keras.datasets import cifar10\n",
        "(train_features, train_labels), (test_features, test_labels) = cifar10.load_data()\n",
        "num_train, img_rows, img_cols,img_channels =  train_features.shape\n",
        "num_test, _, _, _ =  test_features.shape\n",
        "num_classes = len(np.unique(train_labels))"
      ],
      "execution_count": 0,
      "outputs": [
        {
          "output_type": "stream",
          "text": [
            "Downloading data from https://www.cs.toronto.edu/~kriz/cifar-10-python.tar.gz\n",
            "170500096/170498071 [==============================] - 6s 0us/step\n"
          ],
          "name": "stdout"
        }
      ]
    },
    {
      "cell_type": "code",
      "metadata": {
        "id": "S38M7jTadpUZ",
        "colab_type": "code",
        "outputId": "f1eb4cd1-d11f-4f4a-faab-4a904e5406ef",
        "colab": {
          "base_uri": "https://localhost:8080/",
          "height": 68
        }
      },
      "source": [
        "print (num_classes)\n",
        "print (num_train)\n",
        "print (train_features.shape)"
      ],
      "execution_count": 0,
      "outputs": [
        {
          "output_type": "stream",
          "text": [
            "10\n",
            "50000\n",
            "(50000, 32, 32, 3)\n"
          ],
          "name": "stdout"
        }
      ]
    },
    {
      "cell_type": "code",
      "metadata": {
        "id": "t7NuNJK8dv7V",
        "colab_type": "code",
        "outputId": "793949e4-9c3c-41b8-c185-fab6f489111b",
        "colab": {
          "base_uri": "https://localhost:8080/",
          "height": 213
        }
      },
      "source": [
        "class_names = ['airplane','automobile','bird','cat','deer',\n",
        "               'dog','frog','horse','ship','truck']\n",
        "fig = plt.figure(figsize=(8,3))\n",
        "for i in range(num_classes):\n",
        "    ax = fig.add_subplot(2, 5, 1 + i, xticks=[], yticks=[])\n",
        "    idx = np.where(train_labels[:]==i)[0]\n",
        "    features_idx = train_features[idx,::]\n",
        "    img_num = np.random.randint(features_idx.shape[0])\n",
        "    im = features_idx[img_num]\n",
        "    ax.set_title(class_names[i])\n",
        "    plt.imshow(im)\n",
        "plt.show()"
      ],
      "execution_count": 0,
      "outputs": [
        {
          "output_type": "display_data",
          "data": {
            "image/png": "[encoded data removed]",
            "text/plain": [
              "<Figure size 576x216 with 10 Axes>"
            ]
          },
          "metadata": {
            "tags": []
          }
        }
      ]
    },
    {
      "cell_type": "code",
      "metadata": {
        "id": "P-efgg1Ld0bt",
        "colab_type": "code",
        "colab": {}
      },
      "source": [
        "def plot_model_history(model_history):\n",
        "    fig, axs = plt.subplots(1,2,figsize=(15,5))\n",
        "    # summarize history for accuracy\n",
        "    axs[0].plot(range(1,len(model_history.history['acc'])+1),model_history.history['acc'])\n",
        "    axs[0].plot(range(1,len(model_history.history['val_acc'])+1),model_history.history['val_acc'])\n",
        "    axs[0].set_title('Model Accuracy')\n",
        "    axs[0].set_ylabel('Accuracy')\n",
        "    axs[0].set_xlabel('Epoch')\n",
        "    axs[0].set_xticks(np.arange(1,len(model_history.history['acc'])+1),len(model_history.history['acc'])/10)\n",
        "    axs[0].legend(['train', 'val'], loc='best')\n",
        "    # summarize history for loss\n",
        "    axs[1].plot(range(1,len(model_history.history['loss'])+1),model_history.history['loss'])\n",
        "    axs[1].plot(range(1,len(model_history.history['val_loss'])+1),model_history.history['val_loss'])\n",
        "    axs[1].set_title('Model Loss')\n",
        "    axs[1].set_ylabel('Loss')\n",
        "    axs[1].set_xlabel('Epoch')\n",
        "    axs[1].set_xticks(np.arange(1,len(model_history.history['loss'])+1),len(model_history.history['loss'])/10)\n",
        "    axs[1].legend(['train', 'val'], loc='best')\n",
        "    plt.show()"
      ],
      "execution_count": 0,
      "outputs": []
    },
    {
      "cell_type": "code",
      "metadata": {
        "id": "ZyA93WpTd3xV",
        "colab_type": "code",
        "colab": {}
      },
      "source": [
        "def accuracy(test_x, test_y, model):\n",
        "    result = model.predict(test_x)\n",
        "    predicted_class = np.argmax(result, axis=1)\n",
        "    true_class = np.argmax(test_y, axis=1)\n",
        "    num_correct = np.sum(predicted_class == true_class) \n",
        "    accuracy = float(num_correct)/result.shape[0]\n",
        "    return (accuracy * 100)"
      ],
      "execution_count": 0,
      "outputs": []
    },
    {
      "cell_type": "code",
      "metadata": {
        "id": "LziwFj7-d6vn",
        "colab_type": "code",
        "colab": {}
      },
      "source": [
        "train_features = train_features.astype('float32')/255\n",
        "test_features = test_features.astype('float32')/255\n",
        "# convert class labels to binary class labels\n",
        "train_labels = np_utils.to_categorical(train_labels, num_classes)\n",
        "test_labels = np_utils.to_categorical(test_labels, num_classes)"
      ],
      "execution_count": 0,
      "outputs": []
    },
    {
      "cell_type": "code",
      "metadata": {
        "id": "wlwUuOPgd9c8",
        "colab_type": "code",
        "outputId": "df30621b-1dca-4ce0-db95-3af565317967",
        "colab": {
          "base_uri": "https://localhost:8080/",
          "height": 136
        }
      },
      "source": [
        "train_labels"
      ],
      "execution_count": 0,
      "outputs": [
        {
          "output_type": "execute_result",
          "data": {
            "text/plain": [
              "array([[0., 0., 0., ..., 0., 0., 0.],\n",
              "       [0., 0., 0., ..., 0., 0., 1.],\n",
              "       [0., 0., 0., ..., 0., 0., 1.],\n",
              "       ...,\n",
              "       [0., 0., 0., ..., 0., 0., 1.],\n",
              "       [0., 1., 0., ..., 0., 0., 0.],\n",
              "       [0., 1., 0., ..., 0., 0., 0.]], dtype=float32)"
            ]
          },
          "metadata": {
            "tags": []
          },
          "execution_count": 10
        }
      ]
    },
    {
      "cell_type": "code",
      "metadata": {
        "id": "GkJD8kFKeA-R",
        "colab_type": "code",
        "outputId": "466003f1-a45f-47c7-a544-ed3af9403441",
        "colab": {
          "base_uri": "https://localhost:8080/",
          "height": 68
        }
      },
      "source": [
        "# load dataset\n",
        "(trainX, trainy), (testX, testy) = cifar10.load_data()\n",
        "\n",
        "\n",
        "print('Statistics train=%.3f (%.3f), test=%.3f (%.3f)' % (trainX.mean(), trainX.std(), testX.mean(), testX.std()))\n",
        "\n",
        "# create generator that centers pixel values\n",
        "datagen = ImageDataGenerator(featurewise_center=True, featurewise_std_normalization=True)\n",
        "\n",
        "# calculate the mean on the training dataset\n",
        "datagen.fit(trainX)\n",
        "#print('Data Generator mean=%.3f, std=%.3f' % (datagen.mean, datagen.std))\n",
        "\n",
        "# demonstrate effect on a single batch of samples\n",
        "iterator = datagen.flow(trainX, trainy, batch_size=128)\n",
        "\n",
        "# get a batch\n",
        "batchX, batchy = iterator.next()\n",
        "\n",
        "# pixel stats in the batch\n",
        "print(batchX.shape, batchX.mean(), batchX.std())\n",
        "\n",
        "# demonstrate effect on entire training dataset\n",
        "iterator = datagen.flow(trainX, trainy, batch_size=len(trainX), shuffle=False)\n",
        "\n",
        "# get a batch\n",
        "batchX, batchy = iterator.next()\n",
        "\n",
        "# pixel stats in the batch\n",
        "print(batchX.shape, batchX.mean(), batchX.std())\n"
      ],
      "execution_count": 0,
      "outputs": [
        {
          "output_type": "stream",
          "text": [
            "Statistics train=120.708 (64.150), test=121.529 (64.061)\n",
            "(128, 32, 32, 3) -0.01866643 0.97224635\n",
            "(50000, 32, 32, 3) -1.6605131e-06 1.0000001\n"
          ],
          "name": "stdout"
        }
      ]
    },
    {
      "cell_type": "code",
      "metadata": {
        "id": "cHaCQ6MqeF0p",
        "colab_type": "code",
        "colab": {}
      },
      "source": [
        "iterator1 = datagen.flow(testX, testy, batch_size=len(testX), shuffle=False)\n",
        "batch_testX, batch_testy = iterator1.next()\n",
        "\n",
        "X_train = batchX\n",
        "X_test = batch_testX\n",
        "\n",
        "y_train=batchy\n",
        "y_test=batch_testy"
      ],
      "execution_count": 0,
      "outputs": []
    },
    {
      "cell_type": "code",
      "metadata": {
        "id": "P8SeaRibeIcF",
        "colab_type": "code",
        "colab": {}
      },
      "source": [
        "# Convert 1-dimensional class arrays to 10-dimensional class matrices\n",
        "Y_train = np_utils.to_categorical(y_train, 10)\n",
        "Y_test = np_utils.to_categorical(y_test, 10)"
      ],
      "execution_count": 0,
      "outputs": []
    },
    {
      "cell_type": "code",
      "metadata": {
        "id": "EHxRLWkxeNW2",
        "colab_type": "code",
        "outputId": "fc913103-cfd0-4e3d-b8c1-a70cbcf9b430",
        "colab": {
          "base_uri": "https://localhost:8080/",
          "height": 581
        }
      },
      "source": [
        "# Define the model\n",
        "model1 = Sequential()\n",
        "model1.add(Convolution2D(32, 3, 3, border_mode='same',kernel_regularizer=regularizers.l2(0.0001), input_shape=(32, 32, 3)))\n",
        "model1.add(Activation('relu'))\n",
        "model1.add(BatchNormalization())\n",
        "\n",
        "model1.add(Convolution2D(64, 3, 3,kernel_regularizer=regularizers.l2(0.0001),border_mode='same'))\n",
        "model1.add(Activation('relu'))\n",
        "model1.add(BatchNormalization())\n",
        "\n",
        "model1.add(MaxPooling2D(pool_size=(2, 2)))\n",
        "model1.add(Dropout(0.2))\n",
        "\n",
        "model1.add(Convolution2D(32, 1, 1))\n",
        "\n",
        "\n",
        "model1.add(Convolution2D(64, 3, 3,kernel_regularizer=regularizers.l2(0.0001),border_mode='same'))\n",
        "model1.add(Activation('relu'))\n",
        "model1.add(BatchNormalization())\n",
        "\n",
        "model1.add(Convolution2D(128, 3, 3,kernel_regularizer=regularizers.l2(0.0001),border_mode='same'))\n",
        "model1.add(Activation('relu'))\n",
        "model1.add(BatchNormalization())\n",
        "\n",
        "model1.add(MaxPooling2D(pool_size=(2, 2)))\n",
        "model1.add(Dropout(0.3))\n",
        "\n",
        "model1.add(Convolution2D(32, 1, 1))\n",
        "\n",
        "\n",
        "model1.add(Convolution2D(128, 3, 3,kernel_regularizer=regularizers.l2(0.0001), border_mode='same'))\n",
        "model1.add(Activation('relu'))\n",
        "model1.add(BatchNormalization())\n",
        "\n",
        "model1.add(Convolution2D(256, 3, 3,kernel_regularizer=regularizers.l2(0.0001), border_mode='same'))\n",
        "model1.add(Activation('relu'))\n",
        "model1.add(BatchNormalization())\n",
        "\n",
        "model1.add(MaxPooling2D(pool_size=(2, 2)))\n",
        "model1.add(Dropout(0.5))\n",
        "\n",
        "model1.add(Convolution2D(10, 1, 1))\n",
        "\n",
        "model1.add(AveragePooling2D(pool_size = (4,4)))\n",
        "model1.add(Flatten())\n",
        "\n",
        "\n",
        "model1.add(Activation('softmax'))"
      ],
      "execution_count": 0,
      "outputs": [
        {
          "output_type": "stream",
          "text": [
            "WARNING:tensorflow:From /usr/local/lib/python3.6/dist-packages/keras/backend/tensorflow_backend.py:66: The name tf.get_default_graph is deprecated. Please use tf.compat.v1.get_default_graph instead.\n",
            "\n",
            "WARNING:tensorflow:From /usr/local/lib/python3.6/dist-packages/keras/backend/tensorflow_backend.py:541: The name tf.placeholder is deprecated. Please use tf.compat.v1.placeholder instead.\n",
            "\n",
            "WARNING:tensorflow:From /usr/local/lib/python3.6/dist-packages/keras/backend/tensorflow_backend.py:4432: The name tf.random_uniform is deprecated. Please use tf.random.uniform instead.\n",
            "\n",
            "WARNING:tensorflow:From /usr/local/lib/python3.6/dist-packages/keras/backend/tensorflow_backend.py:190: The name tf.get_default_session is deprecated. Please use tf.compat.v1.get_default_session instead.\n",
            "\n",
            "WARNING:tensorflow:From /usr/local/lib/python3.6/dist-packages/keras/backend/tensorflow_backend.py:197: The name tf.ConfigProto is deprecated. Please use tf.compat.v1.ConfigProto instead.\n",
            "\n"
          ],
          "name": "stdout"
        },
        {
          "output_type": "stream",
          "text": [
            "/usr/local/lib/python3.6/dist-packages/ipykernel_launcher.py:2: UserWarning: Update your `Conv2D` call to the Keras 2 API: `Conv2D(32, (3, 3), kernel_regularizer=<keras.reg..., input_shape=(32, 32, 3..., padding=\"same\")`\n",
            "  \n"
          ],
          "name": "stderr"
        },
        {
          "output_type": "stream",
          "text": [
            "WARNING:tensorflow:From /usr/local/lib/python3.6/dist-packages/keras/backend/tensorflow_backend.py:2041: The name tf.nn.fused_batch_norm is deprecated. Please use tf.compat.v1.nn.fused_batch_norm instead.\n",
            "\n"
          ],
          "name": "stdout"
        },
        {
          "output_type": "stream",
          "text": [
            "/usr/local/lib/python3.6/dist-packages/ipykernel_launcher.py:6: UserWarning: Update your `Conv2D` call to the Keras 2 API: `Conv2D(64, (3, 3), kernel_regularizer=<keras.reg..., padding=\"same\")`\n",
            "  \n"
          ],
          "name": "stderr"
        },
        {
          "output_type": "stream",
          "text": [
            "WARNING:tensorflow:From /usr/local/lib/python3.6/dist-packages/keras/backend/tensorflow_backend.py:4267: The name tf.nn.max_pool is deprecated. Please use tf.nn.max_pool2d instead.\n",
            "\n",
            "WARNING:tensorflow:From /usr/local/lib/python3.6/dist-packages/keras/backend/tensorflow_backend.py:3733: calling dropout (from tensorflow.python.ops.nn_ops) with keep_prob is deprecated and will be removed in a future version.\n",
            "Instructions for updating:\n",
            "Please use `rate` instead of `keep_prob`. Rate should be set to `rate = 1 - keep_prob`.\n"
          ],
          "name": "stdout"
        },
        {
          "output_type": "stream",
          "text": [
            "/usr/local/lib/python3.6/dist-packages/ipykernel_launcher.py:13: UserWarning: Update your `Conv2D` call to the Keras 2 API: `Conv2D(32, (1, 1))`\n",
            "  del sys.path[0]\n",
            "/usr/local/lib/python3.6/dist-packages/ipykernel_launcher.py:16: UserWarning: Update your `Conv2D` call to the Keras 2 API: `Conv2D(64, (3, 3), kernel_regularizer=<keras.reg..., padding=\"same\")`\n",
            "  app.launch_new_instance()\n",
            "/usr/local/lib/python3.6/dist-packages/ipykernel_launcher.py:20: UserWarning: Update your `Conv2D` call to the Keras 2 API: `Conv2D(128, (3, 3), kernel_regularizer=<keras.reg..., padding=\"same\")`\n",
            "/usr/local/lib/python3.6/dist-packages/ipykernel_launcher.py:27: UserWarning: Update your `Conv2D` call to the Keras 2 API: `Conv2D(32, (1, 1))`\n",
            "/usr/local/lib/python3.6/dist-packages/ipykernel_launcher.py:30: UserWarning: Update your `Conv2D` call to the Keras 2 API: `Conv2D(128, (3, 3), kernel_regularizer=<keras.reg..., padding=\"same\")`\n",
            "/usr/local/lib/python3.6/dist-packages/ipykernel_launcher.py:34: UserWarning: Update your `Conv2D` call to the Keras 2 API: `Conv2D(256, (3, 3), kernel_regularizer=<keras.reg..., padding=\"same\")`\n"
          ],
          "name": "stderr"
        },
        {
          "output_type": "stream",
          "text": [
            "WARNING:tensorflow:From /usr/local/lib/python3.6/dist-packages/keras/backend/tensorflow_backend.py:4271: The name tf.nn.avg_pool is deprecated. Please use tf.nn.avg_pool2d instead.\n",
            "\n"
          ],
          "name": "stdout"
        },
        {
          "output_type": "stream",
          "text": [
            "/usr/local/lib/python3.6/dist-packages/ipykernel_launcher.py:41: UserWarning: Update your `Conv2D` call to the Keras 2 API: `Conv2D(10, (1, 1))`\n"
          ],
          "name": "stderr"
        }
      ]
    },
    {
      "cell_type": "code",
      "metadata": {
        "id": "uAiloyL9eRcn",
        "colab_type": "code",
        "outputId": "283f8ac3-a262-412b-8437-9503e15737aa",
        "colab": {
          "base_uri": "https://localhost:8080/",
          "height": 71
        }
      },
      "source": [
        "from keras.callbacks import ModelCheckpoint,ReduceLROnPlateau\n",
        "\n",
        "checkpointer = ModelCheckpoint(filepath='../content/drive/My Drive/EVA_Proj/model_before.h5', monitor='val_acc', mode='auto', verbose = 1, save_best_only=True)\n",
        "lr_reducer = ReduceLROnPlateau(monitor='val_acc',factor=0.8, cooldown=0, patience=5, min_lr=0.5e-9,verbose = 1)\n",
        "\n",
        "\n",
        "\n",
        "# Compile the model\n",
        "model1.compile(optimizer='adam', loss='categorical_crossentropy', metrics=['accuracy'])"
      ],
      "execution_count": 0,
      "outputs": [
        {
          "output_type": "stream",
          "text": [
            "WARNING:tensorflow:From /usr/local/lib/python3.6/dist-packages/keras/optimizers.py:793: The name tf.train.Optimizer is deprecated. Please use tf.compat.v1.train.Optimizer instead.\n",
            "\n"
          ],
          "name": "stdout"
        }
      ]
    },
    {
      "cell_type": "code",
      "metadata": {
        "id": "n1iyvoa7eUU_",
        "colab_type": "code",
        "outputId": "2fcb31ea-91c5-4524-c5e5-1a7b2c17da8f",
        "colab": {
          "base_uri": "https://localhost:8080/",
          "height": 1000
        }
      },
      "source": [
        "model1.summary()"
      ],
      "execution_count": 0,
      "outputs": [
        {
          "output_type": "stream",
          "text": [
            "Model: \"sequential_1\"\n",
            "_________________________________________________________________\n",
            "Layer (type)                 Output Shape              Param #   \n",
            "=================================================================\n",
            "conv2d_1 (Conv2D)            (None, 32, 32, 32)        896       \n",
            "_________________________________________________________________\n",
            "activation_1 (Activation)    (None, 32, 32, 32)        0         \n",
            "_________________________________________________________________\n",
            "batch_normalization_1 (Batch (None, 32, 32, 32)        128       \n",
            "_________________________________________________________________\n",
            "conv2d_2 (Conv2D)            (None, 32, 32, 64)        18496     \n",
            "_________________________________________________________________\n",
            "activation_2 (Activation)    (None, 32, 32, 64)        0         \n",
            "_________________________________________________________________\n",
            "batch_normalization_2 (Batch (None, 32, 32, 64)        256       \n",
            "_________________________________________________________________\n",
            "max_pooling2d_1 (MaxPooling2 (None, 16, 16, 64)        0         \n",
            "_________________________________________________________________\n",
            "dropout_1 (Dropout)          (None, 16, 16, 64)        0         \n",
            "_________________________________________________________________\n",
            "conv2d_3 (Conv2D)            (None, 16, 16, 32)        2080      \n",
            "_________________________________________________________________\n",
            "conv2d_4 (Conv2D)            (None, 16, 16, 64)        18496     \n",
            "_________________________________________________________________\n",
            "activation_3 (Activation)    (None, 16, 16, 64)        0         \n",
            "_________________________________________________________________\n",
            "batch_normalization_3 (Batch (None, 16, 16, 64)        256       \n",
            "_________________________________________________________________\n",
            "conv2d_5 (Conv2D)            (None, 16, 16, 128)       73856     \n",
            "_________________________________________________________________\n",
            "activation_4 (Activation)    (None, 16, 16, 128)       0         \n",
            "_________________________________________________________________\n",
            "batch_normalization_4 (Batch (None, 16, 16, 128)       512       \n",
            "_________________________________________________________________\n",
            "max_pooling2d_2 (MaxPooling2 (None, 8, 8, 128)         0         \n",
            "_________________________________________________________________\n",
            "dropout_2 (Dropout)          (None, 8, 8, 128)         0         \n",
            "_________________________________________________________________\n",
            "conv2d_6 (Conv2D)            (None, 8, 8, 32)          4128      \n",
            "_________________________________________________________________\n",
            "conv2d_7 (Conv2D)            (None, 8, 8, 128)         36992     \n",
            "_________________________________________________________________\n",
            "activation_5 (Activation)    (None, 8, 8, 128)         0         \n",
            "_________________________________________________________________\n",
            "batch_normalization_5 (Batch (None, 8, 8, 128)         512       \n",
            "_________________________________________________________________\n",
            "conv2d_8 (Conv2D)            (None, 8, 8, 256)         295168    \n",
            "_________________________________________________________________\n",
            "activation_6 (Activation)    (None, 8, 8, 256)         0         \n",
            "_________________________________________________________________\n",
            "batch_normalization_6 (Batch (None, 8, 8, 256)         1024      \n",
            "_________________________________________________________________\n",
            "max_pooling2d_3 (MaxPooling2 (None, 4, 4, 256)         0         \n",
            "_________________________________________________________________\n",
            "dropout_3 (Dropout)          (None, 4, 4, 256)         0         \n",
            "_________________________________________________________________\n",
            "conv2d_9 (Conv2D)            (None, 4, 4, 10)          2570      \n",
            "_________________________________________________________________\n",
            "average_pooling2d_1 (Average (None, 1, 1, 10)          0         \n",
            "_________________________________________________________________\n",
            "flatten_1 (Flatten)          (None, 10)                0         \n",
            "_________________________________________________________________\n",
            "activation_7 (Activation)    (None, 10)                0         \n",
            "=================================================================\n",
            "Total params: 455,370\n",
            "Trainable params: 454,026\n",
            "Non-trainable params: 1,344\n",
            "_________________________________________________________________\n"
          ],
          "name": "stdout"
        }
      ]
    },
    {
      "cell_type": "markdown",
      "metadata": {
        "id": "PQ8opmqOeZf7",
        "colab_type": "text"
      },
      "source": [
        "###First Model - without Cutout"
      ]
    },
    {
      "cell_type": "code",
      "metadata": {
        "id": "awrWIiU9eY2T",
        "colab_type": "code",
        "outputId": "b71f38bb-bb4b-4451-9212-fab722536069",
        "colab": {
          "base_uri": "https://localhost:8080/",
          "height": 1000
        }
      },
      "source": [
        "from keras.preprocessing.image import ImageDataGenerator\n",
        "\n",
        "datagen = ImageDataGenerator(zoom_range=0.0, \n",
        "                             horizontal_flip=False)\n",
        "\n",
        "\n",
        "# train the model\n",
        "start = time.time()\n",
        "# Train the model\n",
        "model_info = model1.fit_generator(datagen.flow(X_train, Y_train, batch_size = 128),\n",
        "                                 samples_per_epoch = train_features.shape[0], nb_epoch = 100, \n",
        "                                 validation_data = (X_test, Y_test), callbacks=[checkpointer,lr_reducer],verbose=1)\n",
        "end = time.time()\n",
        "print (\"Model took %0.2f seconds to train\"%(end - start))\n",
        "# plot model history\n",
        "plot_model_history(model_info)\n",
        "# compute test accuracy\n",
        "print (\"Accuracy on test data is: %0.2f\"%accuracy(X_test, Y_test, model1))"
      ],
      "execution_count": 0,
      "outputs": [
        {
          "output_type": "stream",
          "text": [
            "/usr/local/lib/python3.6/dist-packages/ipykernel_launcher.py:12: UserWarning: The semantics of the Keras 2 argument `steps_per_epoch` is not the same as the Keras 1 argument `samples_per_epoch`. `steps_per_epoch` is the number of batches to draw from the generator at each epoch. Basically steps_per_epoch = samples_per_epoch/batch_size. Similarly `nb_val_samples`->`validation_steps` and `val_samples`->`steps` arguments have changed. Update your method calls accordingly.\n",
            "  if sys.path[0] == '':\n",
            "/usr/local/lib/python3.6/dist-packages/ipykernel_launcher.py:12: UserWarning: Update your `fit_generator` call to the Keras 2 API: `fit_generator(<keras_pre..., validation_data=(array([[[..., callbacks=[<keras.ca..., verbose=1, steps_per_epoch=390, epochs=100)`\n",
            "  if sys.path[0] == '':\n"
          ],
          "name": "stderr"
        },
        {
          "output_type": "stream",
          "text": [
            "WARNING:tensorflow:From /usr/local/lib/python3.6/dist-packages/tensorflow/python/ops/math_grad.py:1250: add_dispatch_support.<locals>.wrapper (from tensorflow.python.ops.array_ops) is deprecated and will be removed in a future version.\n",
            "Instructions for updating:\n",
            "Use tf.where in 2.0, which has the same broadcast rule as np.where\n",
            "Epoch 1/100\n",
            "390/390 [==============================] - 33s 85ms/step - loss: 1.3814 - acc: 0.5214 - val_loss: 1.1136 - val_acc: 0.6215\n",
            "\n",
            "Epoch 00001: val_acc improved from -inf to 0.62150, saving model to ../content/drive/My Drive/EVA_Proj/model_before.h5\n",
            "Epoch 2/100\n",
            "390/390 [==============================] - 29s 74ms/step - loss: 0.9758 - acc: 0.6738 - val_loss: 0.9300 - val_acc: 0.6961\n",
            "\n",
            "Epoch 00002: val_acc improved from 0.62150 to 0.69610, saving model to ../content/drive/My Drive/EVA_Proj/model_before.h5\n",
            "Epoch 3/100\n",
            "390/390 [==============================] - 29s 74ms/step - loss: 0.8155 - acc: 0.7333 - val_loss: 0.8258 - val_acc: 0.7346\n",
            "\n",
            "Epoch 00003: val_acc improved from 0.69610 to 0.73460, saving model to ../content/drive/My Drive/EVA_Proj/model_before.h5\n",
            "Epoch 4/100\n",
            "390/390 [==============================] - 29s 75ms/step - loss: 0.7127 - acc: 0.7716 - val_loss: 0.7418 - val_acc: 0.7640\n",
            "\n",
            "Epoch 00004: val_acc improved from 0.73460 to 0.76400, saving model to ../content/drive/My Drive/EVA_Proj/model_before.h5\n",
            "Epoch 5/100\n",
            "390/390 [==============================] - 29s 75ms/step - loss: 0.6441 - acc: 0.7990 - val_loss: 0.6983 - val_acc: 0.7860\n",
            "\n",
            "Epoch 00005: val_acc improved from 0.76400 to 0.78600, saving model to ../content/drive/My Drive/EVA_Proj/model_before.h5\n",
            "Epoch 6/100\n",
            "390/390 [==============================] - 29s 74ms/step - loss: 0.5978 - acc: 0.8180 - val_loss: 0.6302 - val_acc: 0.8095\n",
            "\n",
            "Epoch 00006: val_acc improved from 0.78600 to 0.80950, saving model to ../content/drive/My Drive/EVA_Proj/model_before.h5\n",
            "Epoch 7/100\n",
            "390/390 [==============================] - 29s 74ms/step - loss: 0.5649 - acc: 0.8323 - val_loss: 0.6233 - val_acc: 0.8185\n",
            "\n",
            "Epoch 00007: val_acc improved from 0.80950 to 0.81850, saving model to ../content/drive/My Drive/EVA_Proj/model_before.h5\n",
            "Epoch 8/100\n",
            "390/390 [==============================] - 29s 74ms/step - loss: 0.5288 - acc: 0.8465 - val_loss: 0.6144 - val_acc: 0.8226\n",
            "\n",
            "Epoch 00008: val_acc improved from 0.81850 to 0.82260, saving model to ../content/drive/My Drive/EVA_Proj/model_before.h5\n",
            "Epoch 9/100\n",
            "390/390 [==============================] - 29s 74ms/step - loss: 0.5175 - acc: 0.8517 - val_loss: 0.6193 - val_acc: 0.8271\n",
            "\n",
            "Epoch 00009: val_acc improved from 0.82260 to 0.82710, saving model to ../content/drive/My Drive/EVA_Proj/model_before.h5\n",
            "Epoch 10/100\n",
            "390/390 [==============================] - 29s 74ms/step - loss: 0.4985 - acc: 0.8616 - val_loss: 0.5930 - val_acc: 0.8336\n",
            "\n",
            "Epoch 00010: val_acc improved from 0.82710 to 0.83360, saving model to ../content/drive/My Drive/EVA_Proj/model_before.h5\n",
            "Epoch 11/100\n",
            "390/390 [==============================] - 29s 74ms/step - loss: 0.4816 - acc: 0.8690 - val_loss: 0.6490 - val_acc: 0.8196\n",
            "\n",
            "Epoch 00011: val_acc did not improve from 0.83360\n",
            "Epoch 12/100\n",
            "390/390 [==============================] - 29s 74ms/step - loss: 0.4629 - acc: 0.8792 - val_loss: 0.6438 - val_acc: 0.8331\n",
            "\n",
            "Epoch 00012: val_acc did not improve from 0.83360\n",
            "Epoch 13/100\n",
            "390/390 [==============================] - 29s 74ms/step - loss: 0.4571 - acc: 0.8812 - val_loss: 0.6422 - val_acc: 0.8248\n",
            "\n",
            "Epoch 00013: val_acc did not improve from 0.83360\n",
            "Epoch 14/100\n",
            "390/390 [==============================] - 29s 74ms/step - loss: 0.4549 - acc: 0.8858 - val_loss: 0.6509 - val_acc: 0.8325\n",
            "\n",
            "Epoch 00014: val_acc did not improve from 0.83360\n",
            "Epoch 15/100\n",
            "390/390 [==============================] - 29s 74ms/step - loss: 0.4402 - acc: 0.8910 - val_loss: 0.6117 - val_acc: 0.8430\n",
            "\n",
            "Epoch 00015: val_acc improved from 0.83360 to 0.84300, saving model to ../content/drive/My Drive/EVA_Proj/model_before.h5\n",
            "Epoch 16/100\n",
            "390/390 [==============================] - 29s 74ms/step - loss: 0.4323 - acc: 0.8947 - val_loss: 0.6410 - val_acc: 0.8445\n",
            "\n",
            "Epoch 00016: val_acc improved from 0.84300 to 0.84450, saving model to ../content/drive/My Drive/EVA_Proj/model_before.h5\n",
            "Epoch 17/100\n",
            "390/390 [==============================] - 29s 74ms/step - loss: 0.4269 - acc: 0.8969 - val_loss: 0.6748 - val_acc: 0.8305\n",
            "\n",
            "Epoch 00017: val_acc did not improve from 0.84450\n",
            "Epoch 18/100\n",
            "390/390 [==============================] - 29s 74ms/step - loss: 0.4215 - acc: 0.9013 - val_loss: 0.6254 - val_acc: 0.8455\n",
            "\n",
            "Epoch 00018: val_acc improved from 0.84450 to 0.84550, saving model to ../content/drive/My Drive/EVA_Proj/model_before.h5\n",
            "Epoch 19/100\n",
            "390/390 [==============================] - 29s 74ms/step - loss: 0.4185 - acc: 0.9041 - val_loss: 0.6215 - val_acc: 0.8492\n",
            "\n",
            "Epoch 00019: val_acc improved from 0.84550 to 0.84920, saving model to ../content/drive/My Drive/EVA_Proj/model_before.h5\n",
            "Epoch 20/100\n",
            "390/390 [==============================] - 29s 75ms/step - loss: 0.4136 - acc: 0.9073 - val_loss: 0.6275 - val_acc: 0.8474\n",
            "\n",
            "Epoch 00020: val_acc did not improve from 0.84920\n",
            "Epoch 21/100\n",
            "390/390 [==============================] - 29s 74ms/step - loss: 0.4013 - acc: 0.9130 - val_loss: 0.6796 - val_acc: 0.8413\n",
            "\n",
            "Epoch 00021: val_acc did not improve from 0.84920\n",
            "Epoch 22/100\n",
            "390/390 [==============================] - 29s 74ms/step - loss: 0.4084 - acc: 0.9121 - val_loss: 0.6502 - val_acc: 0.8446\n",
            "\n",
            "Epoch 00022: val_acc did not improve from 0.84920\n",
            "Epoch 23/100\n",
            "390/390 [==============================] - 29s 74ms/step - loss: 0.3962 - acc: 0.9165 - val_loss: 0.6436 - val_acc: 0.8530\n",
            "\n",
            "Epoch 00023: val_acc improved from 0.84920 to 0.85300, saving model to ../content/drive/My Drive/EVA_Proj/model_before.h5\n",
            "Epoch 24/100\n",
            "390/390 [==============================] - 29s 74ms/step - loss: 0.4030 - acc: 0.9149 - val_loss: 0.6575 - val_acc: 0.8509\n",
            "\n",
            "Epoch 00024: val_acc did not improve from 0.85300\n",
            "Epoch 25/100\n",
            "390/390 [==============================] - 29s 75ms/step - loss: 0.3987 - acc: 0.9178 - val_loss: 0.6750 - val_acc: 0.8516\n",
            "\n",
            "Epoch 00025: val_acc did not improve from 0.85300\n",
            "Epoch 26/100\n",
            "390/390 [==============================] - 29s 75ms/step - loss: 0.3921 - acc: 0.9204 - val_loss: 0.6405 - val_acc: 0.8546\n",
            "\n",
            "Epoch 00026: val_acc improved from 0.85300 to 0.85460, saving model to ../content/drive/My Drive/EVA_Proj/model_before.h5\n",
            "Epoch 27/100\n",
            "390/390 [==============================] - 29s 75ms/step - loss: 0.3923 - acc: 0.9206 - val_loss: 0.6329 - val_acc: 0.8607\n",
            "\n",
            "Epoch 00027: val_acc improved from 0.85460 to 0.86070, saving model to ../content/drive/My Drive/EVA_Proj/model_before.h5\n",
            "Epoch 28/100\n",
            "390/390 [==============================] - 29s 74ms/step - loss: 0.3854 - acc: 0.9236 - val_loss: 0.6534 - val_acc: 0.8587\n",
            "\n",
            "Epoch 00028: val_acc did not improve from 0.86070\n",
            "Epoch 29/100\n",
            "390/390 [==============================] - 29s 74ms/step - loss: 0.3881 - acc: 0.9234 - val_loss: 0.6917 - val_acc: 0.8518\n",
            "\n",
            "Epoch 00029: val_acc did not improve from 0.86070\n",
            "Epoch 30/100\n",
            "390/390 [==============================] - 29s 74ms/step - loss: 0.3842 - acc: 0.9269 - val_loss: 0.6808 - val_acc: 0.8539\n",
            "\n",
            "Epoch 00030: val_acc did not improve from 0.86070\n",
            "Epoch 31/100\n",
            "390/390 [==============================] - 29s 74ms/step - loss: 0.3819 - acc: 0.9277 - val_loss: 0.6633 - val_acc: 0.8543\n",
            "\n",
            "Epoch 00031: val_acc did not improve from 0.86070\n",
            "Epoch 32/100\n",
            "390/390 [==============================] - 29s 74ms/step - loss: 0.3875 - acc: 0.9265 - val_loss: 0.7313 - val_acc: 0.8391\n",
            "\n",
            "Epoch 00032: val_acc did not improve from 0.86070\n",
            "\n",
            "Epoch 00032: ReduceLROnPlateau reducing learning rate to 0.000800000037997961.\n",
            "Epoch 33/100\n",
            "390/390 [==============================] - 29s 74ms/step - loss: 0.3595 - acc: 0.9374 - val_loss: 0.6624 - val_acc: 0.8585\n",
            "\n",
            "Epoch 00033: val_acc did not improve from 0.86070\n",
            "Epoch 34/100\n",
            "390/390 [==============================] - 29s 74ms/step - loss: 0.3354 - acc: 0.9448 - val_loss: 0.6606 - val_acc: 0.8610\n",
            "\n",
            "Epoch 00034: val_acc improved from 0.86070 to 0.86100, saving model to ../content/drive/My Drive/EVA_Proj/model_before.h5\n",
            "Epoch 35/100\n",
            "390/390 [==============================] - 29s 75ms/step - loss: 0.3403 - acc: 0.9418 - val_loss: 0.6229 - val_acc: 0.8708\n",
            "\n",
            "Epoch 00035: val_acc improved from 0.86100 to 0.87080, saving model to ../content/drive/My Drive/EVA_Proj/model_before.h5\n",
            "Epoch 36/100\n",
            "390/390 [==============================] - 29s 74ms/step - loss: 0.3291 - acc: 0.9454 - val_loss: 0.6582 - val_acc: 0.8629\n",
            "\n",
            "Epoch 00036: val_acc did not improve from 0.87080\n",
            "Epoch 37/100\n",
            "390/390 [==============================] - 29s 74ms/step - loss: 0.3355 - acc: 0.9418 - val_loss: 0.6434 - val_acc: 0.8654\n",
            "\n",
            "Epoch 00037: val_acc did not improve from 0.87080\n",
            "Epoch 38/100\n",
            "390/390 [==============================] - 29s 74ms/step - loss: 0.3314 - acc: 0.9443 - val_loss: 0.6748 - val_acc: 0.8578\n",
            "\n",
            "Epoch 00038: val_acc did not improve from 0.87080\n",
            "Epoch 39/100\n",
            "390/390 [==============================] - 29s 74ms/step - loss: 0.3297 - acc: 0.9446 - val_loss: 0.6676 - val_acc: 0.8656\n",
            "\n",
            "Epoch 00039: val_acc did not improve from 0.87080\n",
            "Epoch 40/100\n",
            "390/390 [==============================] - 29s 74ms/step - loss: 0.3289 - acc: 0.9456 - val_loss: 0.6652 - val_acc: 0.8646\n",
            "\n",
            "Epoch 00040: val_acc did not improve from 0.87080\n",
            "\n",
            "Epoch 00040: ReduceLROnPlateau reducing learning rate to 0.0006400000303983689.\n",
            "Epoch 41/100\n",
            "390/390 [==============================] - 29s 74ms/step - loss: 0.3095 - acc: 0.9523 - val_loss: 0.6447 - val_acc: 0.8711\n",
            "\n",
            "Epoch 00041: val_acc improved from 0.87080 to 0.87110, saving model to ../content/drive/My Drive/EVA_Proj/model_before.h5\n",
            "Epoch 42/100\n",
            "390/390 [==============================] - 29s 74ms/step - loss: 0.2924 - acc: 0.9567 - val_loss: 0.6190 - val_acc: 0.8722\n",
            "\n",
            "Epoch 00042: val_acc improved from 0.87110 to 0.87220, saving model to ../content/drive/My Drive/EVA_Proj/model_before.h5\n",
            "Epoch 43/100\n",
            "390/390 [==============================] - 29s 74ms/step - loss: 0.2873 - acc: 0.9587 - val_loss: 0.6732 - val_acc: 0.8665\n",
            "\n",
            "Epoch 00043: val_acc did not improve from 0.87220\n",
            "Epoch 44/100\n",
            "390/390 [==============================] - 29s 74ms/step - loss: 0.2899 - acc: 0.9572 - val_loss: 0.6326 - val_acc: 0.8732\n",
            "\n",
            "Epoch 00044: val_acc improved from 0.87220 to 0.87320, saving model to ../content/drive/My Drive/EVA_Proj/model_before.h5\n",
            "Epoch 45/100\n",
            "390/390 [==============================] - 29s 74ms/step - loss: 0.2873 - acc: 0.9566 - val_loss: 0.6452 - val_acc: 0.8716\n",
            "\n",
            "Epoch 00045: val_acc did not improve from 0.87320\n",
            "Epoch 46/100\n",
            "390/390 [==============================] - 29s 74ms/step - loss: 0.2838 - acc: 0.9572 - val_loss: 0.6272 - val_acc: 0.8763\n",
            "\n",
            "Epoch 00046: val_acc improved from 0.87320 to 0.87630, saving model to ../content/drive/My Drive/EVA_Proj/model_before.h5\n",
            "Epoch 47/100\n",
            "390/390 [==============================] - 29s 74ms/step - loss: 0.2813 - acc: 0.9582 - val_loss: 0.6704 - val_acc: 0.8644\n",
            "\n",
            "Epoch 00047: val_acc did not improve from 0.87630\n",
            "Epoch 48/100\n",
            "390/390 [==============================] - 29s 74ms/step - loss: 0.2882 - acc: 0.9559 - val_loss: 0.6580 - val_acc: 0.8684\n",
            "\n",
            "Epoch 00048: val_acc did not improve from 0.87630\n",
            "Epoch 49/100\n",
            "390/390 [==============================] - 29s 74ms/step - loss: 0.2815 - acc: 0.9574 - val_loss: 0.6505 - val_acc: 0.8727\n",
            "\n",
            "Epoch 00049: val_acc did not improve from 0.87630\n",
            "Epoch 50/100\n",
            "390/390 [==============================] - 29s 74ms/step - loss: 0.2784 - acc: 0.9585 - val_loss: 0.6328 - val_acc: 0.8710\n",
            "\n",
            "Epoch 00050: val_acc did not improve from 0.87630\n",
            "Epoch 51/100\n",
            "390/390 [==============================] - 29s 74ms/step - loss: 0.2789 - acc: 0.9590 - val_loss: 0.6675 - val_acc: 0.8621\n",
            "\n",
            "Epoch 00051: val_acc did not improve from 0.87630\n",
            "\n",
            "Epoch 00051: ReduceLROnPlateau reducing learning rate to 0.0005120000336319208.\n",
            "Epoch 52/100\n",
            "390/390 [==============================] - 29s 74ms/step - loss: 0.2612 - acc: 0.9649 - val_loss: 0.6179 - val_acc: 0.8795\n",
            "\n",
            "Epoch 00052: val_acc improved from 0.87630 to 0.87950, saving model to ../content/drive/My Drive/EVA_Proj/model_before.h5\n",
            "Epoch 53/100\n",
            "390/390 [==============================] - 29s 74ms/step - loss: 0.2504 - acc: 0.9678 - val_loss: 0.6201 - val_acc: 0.8807\n",
            "\n",
            "Epoch 00053: val_acc improved from 0.87950 to 0.88070, saving model to ../content/drive/My Drive/EVA_Proj/model_before.h5\n",
            "Epoch 54/100\n",
            "390/390 [==============================] - 29s 74ms/step - loss: 0.2462 - acc: 0.9683 - val_loss: 0.6374 - val_acc: 0.8785\n",
            "\n",
            "Epoch 00054: val_acc did not improve from 0.88070\n",
            "Epoch 55/100\n",
            "390/390 [==============================] - 29s 74ms/step - loss: 0.2421 - acc: 0.9688 - val_loss: 0.6484 - val_acc: 0.8756\n",
            "\n",
            "Epoch 00055: val_acc did not improve from 0.88070\n",
            "Epoch 56/100\n",
            "390/390 [==============================] - 29s 74ms/step - loss: 0.2485 - acc: 0.9662 - val_loss: 0.6719 - val_acc: 0.8688\n",
            "\n",
            "Epoch 00056: val_acc did not improve from 0.88070\n",
            "Epoch 57/100\n",
            "390/390 [==============================] - 29s 74ms/step - loss: 0.2458 - acc: 0.9673 - val_loss: 0.6400 - val_acc: 0.8776\n",
            "\n",
            "Epoch 00057: val_acc did not improve from 0.88070\n",
            "Epoch 58/100\n",
            "390/390 [==============================] - 29s 74ms/step - loss: 0.2413 - acc: 0.9687 - val_loss: 0.6519 - val_acc: 0.8732\n",
            "\n",
            "Epoch 00058: val_acc did not improve from 0.88070\n",
            "\n",
            "Epoch 00058: ReduceLROnPlateau reducing learning rate to 0.00040960004553198815.\n",
            "Epoch 59/100\n",
            "390/390 [==============================] - 29s 74ms/step - loss: 0.2256 - acc: 0.9741 - val_loss: 0.6275 - val_acc: 0.8792\n",
            "\n",
            "Epoch 00059: val_acc did not improve from 0.88070\n",
            "Epoch 60/100\n",
            "390/390 [==============================] - 29s 74ms/step - loss: 0.2203 - acc: 0.9746 - val_loss: 0.6297 - val_acc: 0.8781\n",
            "\n",
            "Epoch 00060: val_acc did not improve from 0.88070\n",
            "Epoch 61/100\n",
            "390/390 [==============================] - 29s 74ms/step - loss: 0.2159 - acc: 0.9758 - val_loss: 0.6236 - val_acc: 0.8807\n",
            "\n",
            "Epoch 00061: val_acc did not improve from 0.88070\n",
            "Epoch 62/100\n",
            "390/390 [==============================] - 29s 74ms/step - loss: 0.2168 - acc: 0.9737 - val_loss: 0.6731 - val_acc: 0.8697\n",
            "\n",
            "Epoch 00062: val_acc did not improve from 0.88070\n",
            "Epoch 63/100\n",
            "390/390 [==============================] - 29s 74ms/step - loss: 0.2173 - acc: 0.9729 - val_loss: 0.6417 - val_acc: 0.8758\n",
            "\n",
            "Epoch 00063: val_acc did not improve from 0.88070\n",
            "\n",
            "Epoch 00063: ReduceLROnPlateau reducing learning rate to 0.00032768002711236477.\n",
            "Epoch 64/100\n",
            "390/390 [==============================] - 29s 74ms/step - loss: 0.2025 - acc: 0.9778 - val_loss: 0.6302 - val_acc: 0.8809\n",
            "\n",
            "Epoch 00064: val_acc improved from 0.88070 to 0.88090, saving model to ../content/drive/My Drive/EVA_Proj/model_before.h5\n",
            "Epoch 65/100\n",
            "390/390 [==============================] - 29s 74ms/step - loss: 0.1988 - acc: 0.9792 - val_loss: 0.6224 - val_acc: 0.8823\n",
            "\n",
            "Epoch 00065: val_acc improved from 0.88090 to 0.88230, saving model to ../content/drive/My Drive/EVA_Proj/model_before.h5\n",
            "Epoch 66/100\n",
            "390/390 [==============================] - 29s 74ms/step - loss: 0.1942 - acc: 0.9807 - val_loss: 0.6111 - val_acc: 0.8839\n",
            "\n",
            "Epoch 00066: val_acc improved from 0.88230 to 0.88390, saving model to ../content/drive/My Drive/EVA_Proj/model_before.h5\n",
            "Epoch 67/100\n",
            "390/390 [==============================] - 29s 74ms/step - loss: 0.1917 - acc: 0.9808 - val_loss: 0.6155 - val_acc: 0.8830\n",
            "\n",
            "Epoch 00067: val_acc did not improve from 0.88390\n",
            "Epoch 68/100\n",
            "390/390 [==============================] - 29s 74ms/step - loss: 0.1917 - acc: 0.9801 - val_loss: 0.6259 - val_acc: 0.8842\n",
            "\n",
            "Epoch 00068: val_acc improved from 0.88390 to 0.88420, saving model to ../content/drive/My Drive/EVA_Proj/model_before.h5\n",
            "Epoch 69/100\n",
            "390/390 [==============================] - 29s 74ms/step - loss: 0.1930 - acc: 0.9787 - val_loss: 0.6164 - val_acc: 0.8816\n",
            "\n",
            "Epoch 00069: val_acc did not improve from 0.88420\n",
            "Epoch 70/100\n",
            "390/390 [==============================] - 29s 74ms/step - loss: 0.1888 - acc: 0.9800 - val_loss: 0.6233 - val_acc: 0.8788\n",
            "\n",
            "Epoch 00070: val_acc did not improve from 0.88420\n",
            "Epoch 71/100\n",
            "390/390 [==============================] - 29s 74ms/step - loss: 0.1870 - acc: 0.9809 - val_loss: 0.6542 - val_acc: 0.8763\n",
            "\n",
            "Epoch 00071: val_acc did not improve from 0.88420\n",
            "Epoch 72/100\n",
            "390/390 [==============================] - 29s 74ms/step - loss: 0.1865 - acc: 0.9801 - val_loss: 0.6473 - val_acc: 0.8783\n",
            "\n",
            "Epoch 00072: val_acc did not improve from 0.88420\n",
            "Epoch 73/100\n",
            "390/390 [==============================] - 29s 74ms/step - loss: 0.1861 - acc: 0.9802 - val_loss: 0.6243 - val_acc: 0.8837\n",
            "\n",
            "Epoch 00073: val_acc did not improve from 0.88420\n",
            "\n",
            "Epoch 00073: ReduceLROnPlateau reducing learning rate to 0.0002621440216898918.\n",
            "Epoch 74/100\n",
            "390/390 [==============================] - 29s 74ms/step - loss: 0.1770 - acc: 0.9827 - val_loss: 0.6243 - val_acc: 0.8792\n",
            "\n",
            "Epoch 00074: val_acc did not improve from 0.88420\n",
            "Epoch 75/100\n",
            "390/390 [==============================] - 29s 74ms/step - loss: 0.1700 - acc: 0.9845 - val_loss: 0.6347 - val_acc: 0.8828\n",
            "\n",
            "Epoch 00075: val_acc did not improve from 0.88420\n",
            "Epoch 76/100\n",
            "390/390 [==============================] - 29s 74ms/step - loss: 0.1721 - acc: 0.9838 - val_loss: 0.6393 - val_acc: 0.8835\n",
            "\n",
            "Epoch 00076: val_acc did not improve from 0.88420\n",
            "Epoch 77/100\n",
            "390/390 [==============================] - 29s 74ms/step - loss: 0.1667 - acc: 0.9852 - val_loss: 0.6229 - val_acc: 0.8845\n",
            "\n",
            "Epoch 00077: val_acc improved from 0.88420 to 0.88450, saving model to ../content/drive/My Drive/EVA_Proj/model_before.h5\n",
            "Epoch 78/100\n",
            "390/390 [==============================] - 29s 74ms/step - loss: 0.1685 - acc: 0.9839 - val_loss: 0.6368 - val_acc: 0.8835\n",
            "\n",
            "Epoch 00078: val_acc did not improve from 0.88450\n",
            "Epoch 79/100\n",
            "390/390 [==============================] - 29s 74ms/step - loss: 0.1655 - acc: 0.9841 - val_loss: 0.6248 - val_acc: 0.8809\n",
            "\n",
            "Epoch 00079: val_acc did not improve from 0.88450\n",
            "Epoch 80/100\n",
            "390/390 [==============================] - 29s 74ms/step - loss: 0.1677 - acc: 0.9834 - val_loss: 0.6381 - val_acc: 0.8809\n",
            "\n",
            "Epoch 00080: val_acc did not improve from 0.88450\n",
            "Epoch 81/100\n",
            "390/390 [==============================] - 29s 74ms/step - loss: 0.1658 - acc: 0.9835 - val_loss: 0.6164 - val_acc: 0.8850\n",
            "\n",
            "Epoch 00081: val_acc improved from 0.88450 to 0.88500, saving model to ../content/drive/My Drive/EVA_Proj/model_before.h5\n",
            "Epoch 82/100\n",
            "390/390 [==============================] - 29s 74ms/step - loss: 0.1614 - acc: 0.9852 - val_loss: 0.6170 - val_acc: 0.8875\n",
            "\n",
            "Epoch 00082: val_acc improved from 0.88500 to 0.88750, saving model to ../content/drive/My Drive/EVA_Proj/model_before.h5\n",
            "Epoch 83/100\n",
            "390/390 [==============================] - 29s 74ms/step - loss: 0.1620 - acc: 0.9843 - val_loss: 0.6343 - val_acc: 0.8814\n",
            "\n",
            "Epoch 00083: val_acc did not improve from 0.88750\n",
            "Epoch 84/100\n",
            "390/390 [==============================] - 29s 74ms/step - loss: 0.1592 - acc: 0.9851 - val_loss: 0.6605 - val_acc: 0.8803\n",
            "\n",
            "Epoch 00084: val_acc did not improve from 0.88750\n",
            "Epoch 85/100\n",
            "390/390 [==============================] - 29s 74ms/step - loss: 0.1611 - acc: 0.9837 - val_loss: 0.6209 - val_acc: 0.8817\n",
            "\n",
            "Epoch 00085: val_acc did not improve from 0.88750\n",
            "Epoch 86/100\n",
            "390/390 [==============================] - 29s 74ms/step - loss: 0.1599 - acc: 0.9838 - val_loss: 0.6187 - val_acc: 0.8840\n",
            "\n",
            "Epoch 00086: val_acc did not improve from 0.88750\n",
            "Epoch 87/100\n",
            "390/390 [==============================] - 29s 74ms/step - loss: 0.1560 - acc: 0.9849 - val_loss: 0.6250 - val_acc: 0.8834\n",
            "\n",
            "Epoch 00087: val_acc did not improve from 0.88750\n",
            "\n",
            "Epoch 00087: ReduceLROnPlateau reducing learning rate to 0.00020971521735191345.\n",
            "Epoch 88/100\n",
            "390/390 [==============================] - 29s 74ms/step - loss: 0.1520 - acc: 0.9862 - val_loss: 0.6229 - val_acc: 0.8862\n",
            "\n",
            "Epoch 00088: val_acc did not improve from 0.88750\n",
            "Epoch 89/100\n",
            "390/390 [==============================] - 29s 74ms/step - loss: 0.1508 - acc: 0.9867 - val_loss: 0.6154 - val_acc: 0.8881\n",
            "\n",
            "Epoch 00089: val_acc improved from 0.88750 to 0.88810, saving model to ../content/drive/My Drive/EVA_Proj/model_before.h5\n",
            "Epoch 90/100\n",
            "390/390 [==============================] - 29s 74ms/step - loss: 0.1481 - acc: 0.9871 - val_loss: 0.6418 - val_acc: 0.8840\n",
            "\n",
            "Epoch 00090: val_acc did not improve from 0.88810\n",
            "Epoch 91/100\n",
            "390/390 [==============================] - 29s 74ms/step - loss: 0.1447 - acc: 0.9877 - val_loss: 0.6222 - val_acc: 0.8859\n",
            "\n",
            "Epoch 00091: val_acc did not improve from 0.88810\n",
            "Epoch 92/100\n",
            "390/390 [==============================] - 29s 74ms/step - loss: 0.1432 - acc: 0.9882 - val_loss: 0.6398 - val_acc: 0.8829\n",
            "\n",
            "Epoch 00092: val_acc did not improve from 0.88810\n",
            "Epoch 93/100\n",
            "390/390 [==============================] - 29s 74ms/step - loss: 0.1467 - acc: 0.9864 - val_loss: 0.6255 - val_acc: 0.8831\n",
            "\n",
            "Epoch 00093: val_acc did not improve from 0.88810\n",
            "Epoch 94/100\n",
            "390/390 [==============================] - 29s 74ms/step - loss: 0.1456 - acc: 0.9863 - val_loss: 0.6451 - val_acc: 0.8819\n",
            "\n",
            "Epoch 00094: val_acc did not improve from 0.88810\n",
            "\n",
            "Epoch 00094: ReduceLROnPlateau reducing learning rate to 0.00016777217388153076.\n",
            "Epoch 95/100\n",
            "390/390 [==============================] - 29s 74ms/step - loss: 0.1396 - acc: 0.9886 - val_loss: 0.6161 - val_acc: 0.8855\n",
            "\n",
            "Epoch 00095: val_acc did not improve from 0.88810\n",
            "Epoch 96/100\n",
            "390/390 [==============================] - 29s 74ms/step - loss: 0.1340 - acc: 0.9904 - val_loss: 0.6135 - val_acc: 0.8861\n",
            "\n",
            "Epoch 00096: val_acc did not improve from 0.88810\n",
            "Epoch 97/100\n",
            "390/390 [==============================] - 29s 74ms/step - loss: 0.1353 - acc: 0.9895 - val_loss: 0.6459 - val_acc: 0.8850\n",
            "\n",
            "Epoch 00097: val_acc did not improve from 0.88810\n",
            "Epoch 98/100\n",
            "390/390 [==============================] - 29s 74ms/step - loss: 0.1343 - acc: 0.9896 - val_loss: 0.6214 - val_acc: 0.8877\n",
            "\n",
            "Epoch 00098: val_acc did not improve from 0.88810\n",
            "Epoch 99/100\n",
            "390/390 [==============================] - 29s 74ms/step - loss: 0.1330 - acc: 0.9902 - val_loss: 0.6231 - val_acc: 0.8862\n",
            "\n",
            "Epoch 00099: val_acc did not improve from 0.88810\n",
            "\n",
            "Epoch 00099: ReduceLROnPlateau reducing learning rate to 0.00013421773910522462.\n",
            "Epoch 100/100\n",
            "390/390 [==============================] - 29s 74ms/step - loss: 0.1286 - acc: 0.9909 - val_loss: 0.6056 - val_acc: 0.8924\n",
            "\n",
            "Epoch 00100: val_acc improved from 0.88810 to 0.89240, saving model to ../content/drive/My Drive/EVA_Proj/model_before.h5\n",
            "Model took 2921.78 seconds to train\n"
          ],
          "name": "stdout"
        },
        {
          "output_type": "display_data",
          "data": {
            "image/png": "[encoded data removed]",
            "text/plain": [
              "<Figure size 1080x360 with 2 Axes>"
            ]
          },
          "metadata": {
            "tags": []
          }
        },
        {
          "output_type": "stream",
          "text": [
            "Accuracy on test data is: 89.24\n"
          ],
          "name": "stdout"
        }
      ]
    },
    {
      "cell_type": "code",
      "metadata": {
        "id": "By8VyPwYto3N",
        "colab_type": "code",
        "colab": {}
      },
      "source": [
        "model=keras.models.load_model('../content/drive/My Drive/EVA_Proj/model_before.h5')"
      ],
      "execution_count": 0,
      "outputs": []
    },
    {
      "cell_type": "code",
      "metadata": {
        "id": "yXnWA6pot5MG",
        "colab_type": "code",
        "outputId": "bac09fb4-ed7d-419f-811a-2c765731618f",
        "colab": {
          "base_uri": "https://localhost:8080/",
          "height": 51
        }
      },
      "source": [
        "score = model.evaluate(X_test, Y_test, batch_size=128)\n",
        "print (score[1])"
      ],
      "execution_count": 0,
      "outputs": [
        {
          "output_type": "stream",
          "text": [
            "10000/10000 [==============================] - 2s 202us/step\n",
            "0.8924\n"
          ],
          "name": "stdout"
        }
      ]
    },
    {
      "cell_type": "markdown",
      "metadata": {
        "id": "c0MUoMpOuF2v",
        "colab_type": "text"
      },
      "source": [
        "#### Model One Gradcam results - Without Cutout"
      ]
    },
    {
      "cell_type": "code",
      "metadata": {
        "id": "pYk8II54uuPD",
        "colab_type": "code",
        "outputId": "51b1c0b6-45ed-44c1-9cff-f75ca15f1e5f",
        "colab": {
          "base_uri": "https://localhost:8080/",
          "height": 1000
        }
      },
      "source": [
        "import cv2\n",
        "from google.colab.patches import cv2_imshow\n",
        "\n",
        "images = [100,101,201,510,600,1000,1600,1601,3000,4000,5500,7000,7500,8000,9000,9999]\n",
        "for j in images:\n",
        "  x = testX[j]\n",
        "  x = np.expand_dims(x, axis=0)\n",
        "  preds = model.predict(x,batch_size=1)\n",
        "  class_idx = np.argmax(preds[0])\n",
        "  class_output = model.output[:, class_idx]\n",
        "  last_conv_layer = model.get_layer(\"conv2d_8\")\n",
        "  ## Last Convolutional Layer NO from model.summary....to be added above... please Check on Every RUN....#\n",
        "\n",
        "  grads = K.gradients(class_output, last_conv_layer.output)[0]\n",
        "  pooled_grads = K.mean(grads, axis=(0, 1, 2))\n",
        "  iterate = K.function([model.input], [pooled_grads, last_conv_layer.output[0]])\n",
        "  pooled_grads_value, conv_layer_output_value = iterate([x])\n",
        "  for i in range(256):\n",
        "    conv_layer_output_value[:, :, i] *= pooled_grads_value[i]\n",
        "  \n",
        "  heatmap = np.mean(conv_layer_output_value, axis=-1)\n",
        "  heatmap = np.maximum(heatmap, 0)\n",
        "  heatmap /= np.max(heatmap)\n",
        "  img = (testX[j])\n",
        "  heatmap = cv2.resize(heatmap, (img.shape[1], img.shape[0]))\n",
        "  heatmap = np.uint8(255 * heatmap)\n",
        "  heatmap = cv2.applyColorMap(heatmap, cv2.COLORMAP_JET)\n",
        "  superimposed_img = cv2.addWeighted(img, 0.6, heatmap, 0.4, 0)\n",
        "  #cv2_imshow(img)\n",
        "  #cv2_imshow(superimposed_img)\n",
        "  concatimg = cv2.hconcat([img,superimposed_img])\n",
        "  # Display the concatenated image\n",
        "  print (j)\n",
        "  cv2_imshow(concatimg)\n",
        "  cv2.waitKey(0)\n",
        "  print (\" \")\n",
        "  j = j + 1"
      ],
      "execution_count": 0,
      "outputs": [
        {
          "output_type": "stream",
          "text": [
            "100\n"
          ],
          "name": "stdout"
        },
        {
          "output_type": "display_data",
          "data": {
            "image/png": "[encoded data removed]",
            "text/plain": [
              "<PIL.Image.Image image mode=RGB size=64x32 at 0x7F03DBC80B38>"
            ]
          },
          "metadata": {
            "tags": []
          }
        },
        {
          "output_type": "stream",
          "text": [
            " \n",
            "101\n"
          ],
          "name": "stdout"
        },
        {
          "output_type": "display_data",
          "data": {
            "image/png": "[encoded data removed]",
            "text/plain": [
              "<PIL.Image.Image image mode=RGB size=64x32 at 0x7F03E3695160>"
            ]
          },
          "metadata": {
            "tags": []
          }
        },
        {
          "output_type": "stream",
          "text": [
            " \n",
            "201\n"
          ],
          "name": "stdout"
        },
        {
          "output_type": "stream",
          "text": [
            "/usr/local/lib/python3.6/dist-packages/ipykernel_launcher.py:23: RuntimeWarning: invalid value encountered in true_divide\n"
          ],
          "name": "stderr"
        },
        {
          "output_type": "display_data",
          "data": {
            "image/png": "[encoded data removed]",
            "text/plain": [
              "<PIL.Image.Image image mode=RGB size=64x32 at 0x7F03DBC80A90>"
            ]
          },
          "metadata": {
            "tags": []
          }
        },
        {
          "output_type": "stream",
          "text": [
            " \n",
            "510\n"
          ],
          "name": "stdout"
        },
        {
          "output_type": "stream",
          "text": [
            "/usr/local/lib/python3.6/dist-packages/ipykernel_launcher.py:23: RuntimeWarning: invalid value encountered in true_divide\n"
          ],
          "name": "stderr"
        },
        {
          "output_type": "display_data",
          "data": {
            "image/png": "[encoded data removed]",
            "text/plain": [
              "<PIL.Image.Image image mode=RGB size=64x32 at 0x7F03DBC0A4A8>"
            ]
          },
          "metadata": {
            "tags": []
          }
        },
        {
          "output_type": "stream",
          "text": [
            " \n",
            "600\n"
          ],
          "name": "stdout"
        },
        {
          "output_type": "display_data",
          "data": {
            "image/png": "[encoded data removed]",
            "text/plain": [
              "<PIL.Image.Image image mode=RGB size=64x32 at 0x7F03DBB4F240>"
            ]
          },
          "metadata": {
            "tags": []
          }
        },
        {
          "output_type": "stream",
          "text": [
            " \n",
            "1000\n"
          ],
          "name": "stdout"
        },
        {
          "output_type": "display_data",
          "data": {
            "image/png": "[encoded data removed]",
            "text/plain": [
              "<PIL.Image.Image image mode=RGB size=64x32 at 0x7F03DB870FD0>"
            ]
          },
          "metadata": {
            "tags": []
          }
        },
        {
          "output_type": "stream",
          "text": [
            " \n",
            "1600\n"
          ],
          "name": "stdout"
        },
        {
          "output_type": "display_data",
          "data": {
            "image/png": "[encoded data removed]",
            "text/plain": [
              "<PIL.Image.Image image mode=RGB size=64x32 at 0x7F03DBB4F240>"
            ]
          },
          "metadata": {
            "tags": []
          }
        },
        {
          "output_type": "stream",
          "text": [
            " \n",
            "1601\n"
          ],
          "name": "stdout"
        },
        {
          "output_type": "display_data",
          "data": {
            "image/png": "[encoded data removed]",
            "text/plain": [
              "<PIL.Image.Image image mode=RGB size=64x32 at 0x7F03DB940CC0>"
            ]
          },
          "metadata": {
            "tags": []
          }
        },
        {
          "output_type": "stream",
          "text": [
            " \n",
            "3000\n"
          ],
          "name": "stdout"
        },
        {
          "output_type": "display_data",
          "data": {
            "image/png": "[encoded data removed]",
            "text/plain": [
              "<PIL.Image.Image image mode=RGB size=64x32 at 0x7F03DB760400>"
            ]
          },
          "metadata": {
            "tags": []
          }
        },
        {
          "output_type": "stream",
          "text": [
            " \n",
            "4000\n"
          ],
          "name": "stdout"
        },
        {
          "output_type": "display_data",
          "data": {
            "image/png": "[encoded data removed]",
            "text/plain": [
              "<PIL.Image.Image image mode=RGB size=64x32 at 0x7F03DB6905F8>"
            ]
          },
          "metadata": {
            "tags": []
          }
        },
        {
          "output_type": "stream",
          "text": [
            " \n",
            "5500\n"
          ],
          "name": "stdout"
        },
        {
          "output_type": "display_data",
          "data": {
            "image/png": "[encoded data removed]",
            "text/plain": [
              "<PIL.Image.Image image mode=RGB size=64x32 at 0x7F03DB666898>"
            ]
          },
          "metadata": {
            "tags": []
          }
        },
        {
          "output_type": "stream",
          "text": [
            " \n",
            "7000\n"
          ],
          "name": "stdout"
        },
        {
          "output_type": "display_data",
          "data": {
            "image/png": "[encoded data removed]",
            "text/plain": [
              "<PIL.Image.Image image mode=RGB size=64x32 at 0x7F03DB4F0E48>"
            ]
          },
          "metadata": {
            "tags": []
          }
        },
        {
          "output_type": "stream",
          "text": [
            " \n",
            "7500\n"
          ],
          "name": "stdout"
        },
        {
          "output_type": "display_data",
          "data": {
            "image/png": "[encoded data removed]",
            "text/plain": [
              "<PIL.Image.Image image mode=RGB size=64x32 at 0x7F03DB49FF60>"
            ]
          },
          "metadata": {
            "tags": []
          }
        },
        {
          "output_type": "stream",
          "text": [
            " \n",
            "8000\n"
          ],
          "name": "stdout"
        },
        {
          "output_type": "display_data",
          "data": {
            "image/png": "[encoded data removed]",
            "text/plain": [
              "<PIL.Image.Image image mode=RGB size=64x32 at 0x7F03DB5AAF98>"
            ]
          },
          "metadata": {
            "tags": []
          }
        },
        {
          "output_type": "stream",
          "text": [
            " \n",
            "9000\n"
          ],
          "name": "stdout"
        },
        {
          "output_type": "stream",
          "text": [
            "/usr/local/lib/python3.6/dist-packages/ipykernel_launcher.py:23: RuntimeWarning: invalid value encountered in true_divide\n"
          ],
          "name": "stderr"
        },
        {
          "output_type": "display_data",
          "data": {
            "image/png": "[encoded data removed]",
            "text/plain": [
              "<PIL.Image.Image image mode=RGB size=64x32 at 0x7F03DB49FF60>"
            ]
          },
          "metadata": {
            "tags": []
          }
        },
        {
          "output_type": "stream",
          "text": [
            " \n",
            "9999\n"
          ],
          "name": "stdout"
        },
        {
          "output_type": "display_data",
          "data": {
            "image/png": "[encoded data removed]",
            "text/plain": [
              "<PIL.Image.Image image mode=RGB size=64x32 at 0x7F03DB5AAF98>"
            ]
          },
          "metadata": {
            "tags": []
          }
        },
        {
          "output_type": "stream",
          "text": [
            " \n"
          ],
          "name": "stdout"
        }
      ]
    },
    {
      "cell_type": "code",
      "metadata": {
        "id": "IV17q1DR2Sqb",
        "colab_type": "code",
        "outputId": "9a112824-dfaa-4d8b-cacd-f817778090ae",
        "colab": {
          "base_uri": "https://localhost:8080/",
          "height": 258
        }
      },
      "source": [
        "# Define the model\n",
        "model1 = Sequential()\n",
        "model1.add(Convolution2D(32, 3, 3, border_mode='same',kernel_regularizer=regularizers.l2(0.0001), input_shape=(32, 32, 3)))\n",
        "model1.add(Activation('relu'))\n",
        "model1.add(BatchNormalization())\n",
        "\n",
        "model1.add(Convolution2D(64, 3, 3,kernel_regularizer=regularizers.l2(0.0001),border_mode='same'))\n",
        "model1.add(Activation('relu'))\n",
        "model1.add(BatchNormalization())\n",
        "\n",
        "model1.add(MaxPooling2D(pool_size=(2, 2)))\n",
        "model1.add(Dropout(0.2))\n",
        "\n",
        "model1.add(Convolution2D(32, 1, 1))\n",
        "\n",
        "\n",
        "model1.add(Convolution2D(64, 3, 3,kernel_regularizer=regularizers.l2(0.0001),border_mode='same'))\n",
        "model1.add(Activation('relu'))\n",
        "model1.add(BatchNormalization())\n",
        "\n",
        "model1.add(Convolution2D(128, 3, 3,kernel_regularizer=regularizers.l2(0.0001),border_mode='same'))\n",
        "model1.add(Activation('relu'))\n",
        "model1.add(BatchNormalization())\n",
        "\n",
        "model1.add(MaxPooling2D(pool_size=(2, 2)))\n",
        "model1.add(Dropout(0.3))\n",
        "\n",
        "model1.add(Convolution2D(32, 1, 1))\n",
        "\n",
        "\n",
        "model1.add(Convolution2D(128, 3, 3,kernel_regularizer=regularizers.l2(0.0001), border_mode='same'))\n",
        "model1.add(Activation('relu'))\n",
        "model1.add(BatchNormalization())\n",
        "\n",
        "model1.add(Convolution2D(256, 3, 3,kernel_regularizer=regularizers.l2(0.0001), border_mode='same'))\n",
        "model1.add(Activation('relu'))\n",
        "model1.add(BatchNormalization())\n",
        "\n",
        "model1.add(MaxPooling2D(pool_size=(2, 2)))\n",
        "model1.add(Dropout(0.5))\n",
        "\n",
        "model1.add(Convolution2D(10, 1, 1))\n",
        "\n",
        "model1.add(AveragePooling2D(pool_size = (4,4)))\n",
        "model1.add(Flatten())\n",
        "\n",
        "\n",
        "model1.add(Activation('softmax'))\n"
      ],
      "execution_count": 0,
      "outputs": [
        {
          "output_type": "stream",
          "text": [
            "/usr/local/lib/python3.6/dist-packages/ipykernel_launcher.py:2: UserWarning: Update your `Conv2D` call to the Keras 2 API: `Conv2D(32, (3, 3), kernel_regularizer=<keras.reg..., input_shape=(32, 32, 3..., padding=\"same\")`\n",
            "  \n",
            "/usr/local/lib/python3.6/dist-packages/ipykernel_launcher.py:6: UserWarning: Update your `Conv2D` call to the Keras 2 API: `Conv2D(64, (3, 3), kernel_regularizer=<keras.reg..., padding=\"same\")`\n",
            "  \n",
            "/usr/local/lib/python3.6/dist-packages/ipykernel_launcher.py:13: UserWarning: Update your `Conv2D` call to the Keras 2 API: `Conv2D(32, (1, 1))`\n",
            "  del sys.path[0]\n",
            "/usr/local/lib/python3.6/dist-packages/ipykernel_launcher.py:16: UserWarning: Update your `Conv2D` call to the Keras 2 API: `Conv2D(64, (3, 3), kernel_regularizer=<keras.reg..., padding=\"same\")`\n",
            "  app.launch_new_instance()\n",
            "/usr/local/lib/python3.6/dist-packages/ipykernel_launcher.py:20: UserWarning: Update your `Conv2D` call to the Keras 2 API: `Conv2D(128, (3, 3), kernel_regularizer=<keras.reg..., padding=\"same\")`\n",
            "/usr/local/lib/python3.6/dist-packages/ipykernel_launcher.py:27: UserWarning: Update your `Conv2D` call to the Keras 2 API: `Conv2D(32, (1, 1))`\n",
            "/usr/local/lib/python3.6/dist-packages/ipykernel_launcher.py:30: UserWarning: Update your `Conv2D` call to the Keras 2 API: `Conv2D(128, (3, 3), kernel_regularizer=<keras.reg..., padding=\"same\")`\n",
            "/usr/local/lib/python3.6/dist-packages/ipykernel_launcher.py:34: UserWarning: Update your `Conv2D` call to the Keras 2 API: `Conv2D(256, (3, 3), kernel_regularizer=<keras.reg..., padding=\"same\")`\n",
            "/usr/local/lib/python3.6/dist-packages/ipykernel_launcher.py:41: UserWarning: Update your `Conv2D` call to the Keras 2 API: `Conv2D(10, (1, 1))`\n"
          ],
          "name": "stderr"
        }
      ]
    },
    {
      "cell_type": "code",
      "metadata": {
        "id": "DA8dk4oA2bMP",
        "colab_type": "code",
        "outputId": "e67329cb-136b-4c22-e0e6-8f39f6aa5e11",
        "colab": {
          "base_uri": "https://localhost:8080/",
          "height": 1000
        }
      },
      "source": [
        "model.summary()"
      ],
      "execution_count": 0,
      "outputs": [
        {
          "output_type": "stream",
          "text": [
            "Model: \"sequential_1\"\n",
            "_________________________________________________________________\n",
            "Layer (type)                 Output Shape              Param #   \n",
            "=================================================================\n",
            "conv2d_1 (Conv2D)            (None, 32, 32, 32)        896       \n",
            "_________________________________________________________________\n",
            "activation_1 (Activation)    (None, 32, 32, 32)        0         \n",
            "_________________________________________________________________\n",
            "batch_normalization_1 (Batch (None, 32, 32, 32)        128       \n",
            "_________________________________________________________________\n",
            "conv2d_2 (Conv2D)            (None, 32, 32, 64)        18496     \n",
            "_________________________________________________________________\n",
            "activation_2 (Activation)    (None, 32, 32, 64)        0         \n",
            "_________________________________________________________________\n",
            "batch_normalization_2 (Batch (None, 32, 32, 64)        256       \n",
            "_________________________________________________________________\n",
            "max_pooling2d_1 (MaxPooling2 (None, 16, 16, 64)        0         \n",
            "_________________________________________________________________\n",
            "dropout_1 (Dropout)          (None, 16, 16, 64)        0         \n",
            "_________________________________________________________________\n",
            "conv2d_3 (Conv2D)            (None, 16, 16, 32)        2080      \n",
            "_________________________________________________________________\n",
            "conv2d_4 (Conv2D)            (None, 16, 16, 64)        18496     \n",
            "_________________________________________________________________\n",
            "activation_3 (Activation)    (None, 16, 16, 64)        0         \n",
            "_________________________________________________________________\n",
            "batch_normalization_3 (Batch (None, 16, 16, 64)        256       \n",
            "_________________________________________________________________\n",
            "conv2d_5 (Conv2D)            (None, 16, 16, 128)       73856     \n",
            "_________________________________________________________________\n",
            "activation_4 (Activation)    (None, 16, 16, 128)       0         \n",
            "_________________________________________________________________\n",
            "batch_normalization_4 (Batch (None, 16, 16, 128)       512       \n",
            "_________________________________________________________________\n",
            "max_pooling2d_2 (MaxPooling2 (None, 8, 8, 128)         0         \n",
            "_________________________________________________________________\n",
            "dropout_2 (Dropout)          (None, 8, 8, 128)         0         \n",
            "_________________________________________________________________\n",
            "conv2d_6 (Conv2D)            (None, 8, 8, 32)          4128      \n",
            "_________________________________________________________________\n",
            "conv2d_7 (Conv2D)            (None, 8, 8, 128)         36992     \n",
            "_________________________________________________________________\n",
            "activation_5 (Activation)    (None, 8, 8, 128)         0         \n",
            "_________________________________________________________________\n",
            "batch_normalization_5 (Batch (None, 8, 8, 128)         512       \n",
            "_________________________________________________________________\n",
            "conv2d_8 (Conv2D)            (None, 8, 8, 256)         295168    \n",
            "_________________________________________________________________\n",
            "activation_6 (Activation)    (None, 8, 8, 256)         0         \n",
            "_________________________________________________________________\n",
            "batch_normalization_6 (Batch (None, 8, 8, 256)         1024      \n",
            "_________________________________________________________________\n",
            "max_pooling2d_3 (MaxPooling2 (None, 4, 4, 256)         0         \n",
            "_________________________________________________________________\n",
            "dropout_3 (Dropout)          (None, 4, 4, 256)         0         \n",
            "_________________________________________________________________\n",
            "conv2d_9 (Conv2D)            (None, 4, 4, 10)          2570      \n",
            "_________________________________________________________________\n",
            "average_pooling2d_1 (Average (None, 1, 1, 10)          0         \n",
            "_________________________________________________________________\n",
            "flatten_1 (Flatten)          (None, 10)                0         \n",
            "_________________________________________________________________\n",
            "activation_7 (Activation)    (None, 10)                0         \n",
            "=================================================================\n",
            "Total params: 455,370\n",
            "Trainable params: 454,026\n",
            "Non-trainable params: 1,344\n",
            "_________________________________________________________________\n"
          ],
          "name": "stdout"
        }
      ]
    },
    {
      "cell_type": "code",
      "metadata": {
        "id": "KsMJRyI82e-u",
        "colab_type": "code",
        "colab": {}
      },
      "source": [
        "from keras.callbacks import ModelCheckpoint,ReduceLROnPlateau\n",
        "\n",
        "checkpointer1 = ModelCheckpoint(filepath='../content/drive/My Drive/EVA_Proj/model_after.h5', monitor='val_acc', mode='auto', verbose = 1, save_best_only=True)\n",
        "lr_reducer1 = ReduceLROnPlateau(monitor='val_acc',factor=0.8, cooldown=0, patience=5, min_lr=0.5e-9,verbose = 1)\n",
        "\n",
        "\n",
        "\n",
        "# Compile the model\n",
        "model1.compile(optimizer='adam', loss='categorical_crossentropy', metrics=['accuracy'])"
      ],
      "execution_count": 0,
      "outputs": []
    },
    {
      "cell_type": "code",
      "metadata": {
        "id": "38ho8Zt-2hYj",
        "colab_type": "code",
        "colab": {}
      },
      "source": [
        "def get_random_eraser(p=0.5, s_l=0.02, s_h=0.4, r_1=0.3, r_2=1/0.3, v_l=0, v_h=255, pixel_level=False):\n",
        "    def eraser(input_img):\n",
        "        img_h, img_w, img_c = input_img.shape\n",
        "        p_1 = np.random.rand()\n",
        "\n",
        "        if p_1 > p:\n",
        "            return input_img\n",
        "\n",
        "        while True:\n",
        "            s = np.random.uniform(s_l, s_h) * img_h * img_w\n",
        "            r = np.random.uniform(r_1, r_2)\n",
        "            w = int(np.sqrt(s / r))\n",
        "            h = int(np.sqrt(s * r))\n",
        "            left = np.random.randint(0, img_w)\n",
        "            top = np.random.randint(0, img_h)\n",
        "\n",
        "            if left + w <= img_w and top + h <= img_h:\n",
        "                break\n",
        "\n",
        "        if pixel_level:\n",
        "            c = np.random.uniform(v_l, v_h, (h, w, img_c))\n",
        "        else:\n",
        "            c = np.random.uniform(v_l, v_h)\n",
        "\n",
        "        input_img[top:top + h, left:left + w, :] = c\n",
        "\n",
        "        return input_img\n",
        "\n",
        "    return eraser"
      ],
      "execution_count": 0,
      "outputs": []
    },
    {
      "cell_type": "markdown",
      "metadata": {
        "id": "dEWs5mWs2leW",
        "colab_type": "text"
      },
      "source": [
        "####Model Two - with Cutout"
      ]
    },
    {
      "cell_type": "code",
      "metadata": {
        "id": "fY1F8Adc2tW2",
        "colab_type": "code",
        "outputId": "b580afb0-b2ce-439a-f179-742fc1a6b541",
        "colab": {
          "base_uri": "https://localhost:8080/",
          "height": 1000
        }
      },
      "source": [
        "from keras.preprocessing.image import ImageDataGenerator\n",
        "\n",
        "datagen = ImageDataGenerator(zoom_range=0.0, \n",
        "                             horizontal_flip=False,\n",
        "                             preprocessing_function=get_random_eraser(v_l=0, v_h=1, pixel_level=True))\n",
        "\n",
        "\n",
        "# train the model\n",
        "start = time.time()\n",
        "# Train the model\n",
        "model_info = model1.fit_generator(datagen.flow(X_train, Y_train, batch_size = 128),\n",
        "                                 samples_per_epoch = train_features.shape[0], nb_epoch = 100, \n",
        "                                 validation_data = (X_test, Y_test), callbacks=[checkpointer1,lr_reducer1],verbose=1)\n",
        "end = time.time()\n",
        "print (\"Model took %0.2f seconds to train\"%(end - start))\n",
        "# plot model history\n",
        "plot_model_history(model_info)\n",
        "# compute test accuracy\n",
        "print (\"Accuracy on test data is: %0.2f\"%accuracy(X_test, Y_test, model1))"
      ],
      "execution_count": 0,
      "outputs": [
        {
          "output_type": "stream",
          "text": [
            "/usr/local/lib/python3.6/dist-packages/ipykernel_launcher.py:13: UserWarning: The semantics of the Keras 2 argument `steps_per_epoch` is not the same as the Keras 1 argument `samples_per_epoch`. `steps_per_epoch` is the number of batches to draw from the generator at each epoch. Basically steps_per_epoch = samples_per_epoch/batch_size. Similarly `nb_val_samples`->`validation_steps` and `val_samples`->`steps` arguments have changed. Update your method calls accordingly.\n",
            "  del sys.path[0]\n",
            "/usr/local/lib/python3.6/dist-packages/ipykernel_launcher.py:13: UserWarning: Update your `fit_generator` call to the Keras 2 API: `fit_generator(<keras_pre..., validation_data=(array([[[..., callbacks=[<keras.ca..., verbose=1, steps_per_epoch=390, epochs=100)`\n",
            "  del sys.path[0]\n"
          ],
          "name": "stderr"
        },
        {
          "output_type": "stream",
          "text": [
            "Epoch 1/100\n",
            "390/390 [==============================] - 32s 81ms/step - loss: 1.5019 - acc: 0.4762 - val_loss: 1.2536 - val_acc: 0.5865\n",
            "\n",
            "Epoch 00001: val_acc improved from -inf to 0.58650, saving model to ../content/drive/My Drive/EVA_Proj/model_after.h5\n",
            "Epoch 2/100\n",
            "390/390 [==============================] - 29s 75ms/step - loss: 1.1139 - acc: 0.6226 - val_loss: 1.0310 - val_acc: 0.6581\n",
            "\n",
            "Epoch 00002: val_acc improved from 0.58650 to 0.65810, saving model to ../content/drive/My Drive/EVA_Proj/model_after.h5\n",
            "Epoch 3/100\n",
            "390/390 [==============================] - 29s 75ms/step - loss: 0.9611 - acc: 0.6793 - val_loss: 0.8699 - val_acc: 0.7132\n",
            "\n",
            "Epoch 00003: val_acc improved from 0.65810 to 0.71320, saving model to ../content/drive/My Drive/EVA_Proj/model_after.h5\n",
            "Epoch 4/100\n",
            "390/390 [==============================] - 29s 75ms/step - loss: 0.8616 - acc: 0.7176 - val_loss: 0.7870 - val_acc: 0.7450\n",
            "\n",
            "Epoch 00004: val_acc improved from 0.71320 to 0.74500, saving model to ../content/drive/My Drive/EVA_Proj/model_after.h5\n",
            "Epoch 5/100\n",
            "390/390 [==============================] - 29s 75ms/step - loss: 0.7869 - acc: 0.7484 - val_loss: 0.7090 - val_acc: 0.7752\n",
            "\n",
            "Epoch 00005: val_acc improved from 0.74500 to 0.77520, saving model to ../content/drive/My Drive/EVA_Proj/model_after.h5\n",
            "Epoch 6/100\n",
            "390/390 [==============================] - 29s 75ms/step - loss: 0.7347 - acc: 0.7689 - val_loss: 0.7711 - val_acc: 0.7668\n",
            "\n",
            "Epoch 00006: val_acc did not improve from 0.77520\n",
            "Epoch 7/100\n",
            "390/390 [==============================] - 29s 75ms/step - loss: 0.7042 - acc: 0.7812 - val_loss: 0.6474 - val_acc: 0.8053\n",
            "\n",
            "Epoch 00007: val_acc improved from 0.77520 to 0.80530, saving model to ../content/drive/My Drive/EVA_Proj/model_after.h5\n",
            "Epoch 8/100\n",
            "390/390 [==============================] - 30s 76ms/step - loss: 0.6673 - acc: 0.7962 - val_loss: 0.6546 - val_acc: 0.8059\n",
            "\n",
            "Epoch 00008: val_acc improved from 0.80530 to 0.80590, saving model to ../content/drive/My Drive/EVA_Proj/model_after.h5\n",
            "Epoch 9/100\n",
            "390/390 [==============================] - 29s 75ms/step - loss: 0.6456 - acc: 0.8051 - val_loss: 0.6285 - val_acc: 0.8147\n",
            "\n",
            "Epoch 00009: val_acc improved from 0.80590 to 0.81470, saving model to ../content/drive/My Drive/EVA_Proj/model_after.h5\n",
            "Epoch 10/100\n",
            "390/390 [==============================] - 29s 75ms/step - loss: 0.6327 - acc: 0.8125 - val_loss: 0.6596 - val_acc: 0.8154\n",
            "\n",
            "Epoch 00010: val_acc improved from 0.81470 to 0.81540, saving model to ../content/drive/My Drive/EVA_Proj/model_after.h5\n",
            "Epoch 11/100\n",
            "390/390 [==============================] - 29s 75ms/step - loss: 0.6147 - acc: 0.8211 - val_loss: 0.6379 - val_acc: 0.8219\n",
            "\n",
            "Epoch 00011: val_acc improved from 0.81540 to 0.82190, saving model to ../content/drive/My Drive/EVA_Proj/model_after.h5\n",
            "Epoch 12/100\n",
            "390/390 [==============================] - 29s 75ms/step - loss: 0.5984 - acc: 0.8275 - val_loss: 0.6275 - val_acc: 0.8280\n",
            "\n",
            "Epoch 00012: val_acc improved from 0.82190 to 0.82800, saving model to ../content/drive/My Drive/EVA_Proj/model_after.h5\n",
            "Epoch 13/100\n",
            "390/390 [==============================] - 29s 75ms/step - loss: 0.5890 - acc: 0.8348 - val_loss: 0.6449 - val_acc: 0.8221\n",
            "\n",
            "Epoch 00013: val_acc did not improve from 0.82800\n",
            "Epoch 14/100\n",
            "390/390 [==============================] - 29s 75ms/step - loss: 0.5813 - acc: 0.8376 - val_loss: 0.6345 - val_acc: 0.8335\n",
            "\n",
            "Epoch 00014: val_acc improved from 0.82800 to 0.83350, saving model to ../content/drive/My Drive/EVA_Proj/model_after.h5\n",
            "Epoch 15/100\n",
            "390/390 [==============================] - 29s 75ms/step - loss: 0.5758 - acc: 0.8402 - val_loss: 0.6038 - val_acc: 0.8366\n",
            "\n",
            "Epoch 00015: val_acc improved from 0.83350 to 0.83660, saving model to ../content/drive/My Drive/EVA_Proj/model_after.h5\n",
            "Epoch 16/100\n",
            "390/390 [==============================] - 29s 75ms/step - loss: 0.5686 - acc: 0.8443 - val_loss: 0.5857 - val_acc: 0.8472\n",
            "\n",
            "Epoch 00016: val_acc improved from 0.83660 to 0.84720, saving model to ../content/drive/My Drive/EVA_Proj/model_after.h5\n",
            "Epoch 17/100\n",
            "390/390 [==============================] - 29s 75ms/step - loss: 0.5594 - acc: 0.8499 - val_loss: 0.6643 - val_acc: 0.8316\n",
            "\n",
            "Epoch 00017: val_acc did not improve from 0.84720\n",
            "Epoch 18/100\n",
            "390/390 [==============================] - 29s 75ms/step - loss: 0.5524 - acc: 0.8537 - val_loss: 0.6152 - val_acc: 0.8448\n",
            "\n",
            "Epoch 00018: val_acc did not improve from 0.84720\n",
            "Epoch 19/100\n",
            "390/390 [==============================] - 29s 75ms/step - loss: 0.5522 - acc: 0.8548 - val_loss: 0.6310 - val_acc: 0.8433\n",
            "\n",
            "Epoch 00019: val_acc did not improve from 0.84720\n",
            "Epoch 20/100\n",
            "390/390 [==============================] - 29s 75ms/step - loss: 0.5437 - acc: 0.8578 - val_loss: 0.6111 - val_acc: 0.8440\n",
            "\n",
            "Epoch 00020: val_acc did not improve from 0.84720\n",
            "Epoch 21/100\n",
            "390/390 [==============================] - 29s 75ms/step - loss: 0.5376 - acc: 0.8622 - val_loss: 0.5986 - val_acc: 0.8547\n",
            "\n",
            "Epoch 00021: val_acc improved from 0.84720 to 0.85470, saving model to ../content/drive/My Drive/EVA_Proj/model_after.h5\n",
            "Epoch 22/100\n",
            "390/390 [==============================] - 29s 75ms/step - loss: 0.5372 - acc: 0.8633 - val_loss: 0.6103 - val_acc: 0.8499\n",
            "\n",
            "Epoch 00022: val_acc did not improve from 0.85470\n",
            "Epoch 23/100\n",
            "390/390 [==============================] - 30s 76ms/step - loss: 0.5367 - acc: 0.8637 - val_loss: 0.6124 - val_acc: 0.8524\n",
            "\n",
            "Epoch 00023: val_acc did not improve from 0.85470\n",
            "Epoch 24/100\n",
            "390/390 [==============================] - 29s 75ms/step - loss: 0.5370 - acc: 0.8653 - val_loss: 0.6693 - val_acc: 0.8352\n",
            "\n",
            "Epoch 00024: val_acc did not improve from 0.85470\n",
            "Epoch 25/100\n",
            "390/390 [==============================] - 30s 76ms/step - loss: 0.5265 - acc: 0.8696 - val_loss: 0.5936 - val_acc: 0.8596\n",
            "\n",
            "Epoch 00025: val_acc improved from 0.85470 to 0.85960, saving model to ../content/drive/My Drive/EVA_Proj/model_after.h5\n",
            "Epoch 26/100\n",
            "390/390 [==============================] - 30s 76ms/step - loss: 0.5269 - acc: 0.8705 - val_loss: 0.6451 - val_acc: 0.8455\n",
            "\n",
            "Epoch 00026: val_acc did not improve from 0.85960\n",
            "Epoch 27/100\n",
            "390/390 [==============================] - 30s 76ms/step - loss: 0.5172 - acc: 0.8739 - val_loss: 0.5975 - val_acc: 0.8624\n",
            "\n",
            "Epoch 00027: val_acc improved from 0.85960 to 0.86240, saving model to ../content/drive/My Drive/EVA_Proj/model_after.h5\n",
            "Epoch 28/100\n",
            "390/390 [==============================] - 29s 75ms/step - loss: 0.5171 - acc: 0.8742 - val_loss: 0.6198 - val_acc: 0.8546\n",
            "\n",
            "Epoch 00028: val_acc did not improve from 0.86240\n",
            "Epoch 29/100\n",
            "390/390 [==============================] - 29s 76ms/step - loss: 0.5087 - acc: 0.8774 - val_loss: 0.5848 - val_acc: 0.8609\n",
            "\n",
            "Epoch 00029: val_acc did not improve from 0.86240\n",
            "Epoch 30/100\n",
            "390/390 [==============================] - 29s 76ms/step - loss: 0.5112 - acc: 0.8793 - val_loss: 0.6180 - val_acc: 0.8564\n",
            "\n",
            "Epoch 00030: val_acc did not improve from 0.86240\n",
            "Epoch 31/100\n",
            "390/390 [==============================] - 30s 76ms/step - loss: 0.5083 - acc: 0.8795 - val_loss: 0.6354 - val_acc: 0.8572\n",
            "\n",
            "Epoch 00031: val_acc did not improve from 0.86240\n",
            "Epoch 32/100\n",
            "390/390 [==============================] - 29s 76ms/step - loss: 0.5143 - acc: 0.8773 - val_loss: 0.6133 - val_acc: 0.8548\n",
            "\n",
            "Epoch 00032: val_acc did not improve from 0.86240\n",
            "\n",
            "Epoch 00032: ReduceLROnPlateau reducing learning rate to 0.000800000037997961.\n",
            "Epoch 33/100\n",
            "390/390 [==============================] - 29s 75ms/step - loss: 0.4772 - acc: 0.8915 - val_loss: 0.5828 - val_acc: 0.8704\n",
            "\n",
            "Epoch 00033: val_acc improved from 0.86240 to 0.87040, saving model to ../content/drive/My Drive/EVA_Proj/model_after.h5\n",
            "Epoch 34/100\n",
            "390/390 [==============================] - 29s 76ms/step - loss: 0.4765 - acc: 0.8907 - val_loss: 0.5786 - val_acc: 0.8702\n",
            "\n",
            "Epoch 00034: val_acc did not improve from 0.87040\n",
            "Epoch 35/100\n",
            "390/390 [==============================] - 30s 76ms/step - loss: 0.4603 - acc: 0.8967 - val_loss: 0.5723 - val_acc: 0.8689\n",
            "\n",
            "Epoch 00035: val_acc did not improve from 0.87040\n",
            "Epoch 36/100\n",
            "390/390 [==============================] - 29s 75ms/step - loss: 0.4599 - acc: 0.8957 - val_loss: 0.6515 - val_acc: 0.8542\n",
            "\n",
            "Epoch 00036: val_acc did not improve from 0.87040\n",
            "Epoch 37/100\n",
            "390/390 [==============================] - 29s 74ms/step - loss: 0.4541 - acc: 0.8991 - val_loss: 0.6049 - val_acc: 0.8643\n",
            "\n",
            "Epoch 00037: val_acc did not improve from 0.87040\n",
            "Epoch 38/100\n",
            "390/390 [==============================] - 29s 75ms/step - loss: 0.4571 - acc: 0.8968 - val_loss: 0.6278 - val_acc: 0.8630\n",
            "\n",
            "Epoch 00038: val_acc did not improve from 0.87040\n",
            "\n",
            "Epoch 00038: ReduceLROnPlateau reducing learning rate to 0.0006400000303983689.\n",
            "Epoch 39/100\n",
            "390/390 [==============================] - 29s 74ms/step - loss: 0.4408 - acc: 0.9031 - val_loss: 0.5714 - val_acc: 0.8723\n",
            "\n",
            "Epoch 00039: val_acc improved from 0.87040 to 0.87230, saving model to ../content/drive/My Drive/EVA_Proj/model_after.h5\n",
            "Epoch 40/100\n",
            "390/390 [==============================] - 29s 74ms/step - loss: 0.4224 - acc: 0.9065 - val_loss: 0.5848 - val_acc: 0.8704\n",
            "\n",
            "Epoch 00040: val_acc did not improve from 0.87230\n",
            "Epoch 41/100\n",
            "390/390 [==============================] - 29s 75ms/step - loss: 0.4136 - acc: 0.9108 - val_loss: 0.5837 - val_acc: 0.8701\n",
            "\n",
            "Epoch 00041: val_acc did not improve from 0.87230\n",
            "Epoch 42/100\n",
            "390/390 [==============================] - 29s 74ms/step - loss: 0.4183 - acc: 0.9089 - val_loss: 0.5502 - val_acc: 0.8772\n",
            "\n",
            "Epoch 00042: val_acc improved from 0.87230 to 0.87720, saving model to ../content/drive/My Drive/EVA_Proj/model_after.h5\n",
            "Epoch 43/100\n",
            "390/390 [==============================] - 29s 75ms/step - loss: 0.4148 - acc: 0.9104 - val_loss: 0.5727 - val_acc: 0.8700\n",
            "\n",
            "Epoch 00043: val_acc did not improve from 0.87720\n",
            "Epoch 44/100\n",
            "390/390 [==============================] - 29s 75ms/step - loss: 0.4121 - acc: 0.9104 - val_loss: 0.5589 - val_acc: 0.8740\n",
            "\n",
            "Epoch 00044: val_acc did not improve from 0.87720\n",
            "Epoch 45/100\n",
            "390/390 [==============================] - 29s 74ms/step - loss: 0.4026 - acc: 0.9124 - val_loss: 0.5648 - val_acc: 0.8778\n",
            "\n",
            "Epoch 00045: val_acc improved from 0.87720 to 0.87780, saving model to ../content/drive/My Drive/EVA_Proj/model_after.h5\n",
            "Epoch 46/100\n",
            "390/390 [==============================] - 29s 74ms/step - loss: 0.4080 - acc: 0.9118 - val_loss: 0.5854 - val_acc: 0.8726\n",
            "\n",
            "Epoch 00046: val_acc did not improve from 0.87780\n",
            "Epoch 47/100\n",
            "390/390 [==============================] - 29s 75ms/step - loss: 0.4005 - acc: 0.9137 - val_loss: 0.5692 - val_acc: 0.8776\n",
            "\n",
            "Epoch 00047: val_acc did not improve from 0.87780\n",
            "Epoch 48/100\n",
            "390/390 [==============================] - 29s 75ms/step - loss: 0.4034 - acc: 0.9138 - val_loss: 0.6084 - val_acc: 0.8676\n",
            "\n",
            "Epoch 00048: val_acc did not improve from 0.87780\n",
            "Epoch 49/100\n",
            "390/390 [==============================] - 29s 75ms/step - loss: 0.3976 - acc: 0.9148 - val_loss: 0.5579 - val_acc: 0.8795\n",
            "\n",
            "Epoch 00049: val_acc improved from 0.87780 to 0.87950, saving model to ../content/drive/My Drive/EVA_Proj/model_after.h5\n",
            "Epoch 50/100\n",
            "390/390 [==============================] - 29s 74ms/step - loss: 0.3967 - acc: 0.9147 - val_loss: 0.5741 - val_acc: 0.8735\n",
            "\n",
            "Epoch 00050: val_acc did not improve from 0.87950\n",
            "Epoch 51/100\n",
            "390/390 [==============================] - 29s 74ms/step - loss: 0.4018 - acc: 0.9124 - val_loss: 0.5715 - val_acc: 0.8761\n",
            "\n",
            "Epoch 00051: val_acc did not improve from 0.87950\n",
            "Epoch 52/100\n",
            "390/390 [==============================] - 29s 75ms/step - loss: 0.3933 - acc: 0.9155 - val_loss: 0.5879 - val_acc: 0.8679\n",
            "\n",
            "Epoch 00052: val_acc did not improve from 0.87950\n",
            "Epoch 53/100\n",
            "390/390 [==============================] - 29s 75ms/step - loss: 0.3948 - acc: 0.9148 - val_loss: 0.5629 - val_acc: 0.8779\n",
            "\n",
            "Epoch 00053: val_acc did not improve from 0.87950\n",
            "Epoch 54/100\n",
            "390/390 [==============================] - 29s 75ms/step - loss: 0.3945 - acc: 0.9162 - val_loss: 0.5721 - val_acc: 0.8758\n",
            "\n",
            "Epoch 00054: val_acc did not improve from 0.87950\n",
            "\n",
            "Epoch 00054: ReduceLROnPlateau reducing learning rate to 0.0005120000336319208.\n",
            "Epoch 55/100\n",
            "390/390 [==============================] - 29s 75ms/step - loss: 0.3761 - acc: 0.9226 - val_loss: 0.5205 - val_acc: 0.8900\n",
            "\n",
            "Epoch 00055: val_acc improved from 0.87950 to 0.89000, saving model to ../content/drive/My Drive/EVA_Proj/model_after.h5\n",
            "Epoch 56/100\n",
            "390/390 [==============================] - 29s 75ms/step - loss: 0.3622 - acc: 0.9260 - val_loss: 0.5489 - val_acc: 0.8826\n",
            "\n",
            "Epoch 00056: val_acc did not improve from 0.89000\n",
            "Epoch 57/100\n",
            "390/390 [==============================] - 29s 75ms/step - loss: 0.3613 - acc: 0.9271 - val_loss: 0.5355 - val_acc: 0.8844\n",
            "\n",
            "Epoch 00057: val_acc did not improve from 0.89000\n",
            "Epoch 58/100\n",
            "390/390 [==============================] - 29s 74ms/step - loss: 0.3658 - acc: 0.9233 - val_loss: 0.5716 - val_acc: 0.8754\n",
            "\n",
            "Epoch 00058: val_acc did not improve from 0.89000\n",
            "Epoch 59/100\n",
            "390/390 [==============================] - 29s 75ms/step - loss: 0.3577 - acc: 0.9254 - val_loss: 0.5309 - val_acc: 0.8836\n",
            "\n",
            "Epoch 00059: val_acc did not improve from 0.89000\n",
            "Epoch 60/100\n",
            "390/390 [==============================] - 29s 74ms/step - loss: 0.3536 - acc: 0.9263 - val_loss: 0.5514 - val_acc: 0.8807\n",
            "\n",
            "Epoch 00060: val_acc did not improve from 0.89000\n",
            "\n",
            "Epoch 00060: ReduceLROnPlateau reducing learning rate to 0.00040960004553198815.\n",
            "Epoch 61/100\n",
            "390/390 [==============================] - 29s 74ms/step - loss: 0.3418 - acc: 0.9320 - val_loss: 0.5407 - val_acc: 0.8832\n",
            "\n",
            "Epoch 00061: val_acc did not improve from 0.89000\n",
            "Epoch 62/100\n",
            "390/390 [==============================] - 29s 75ms/step - loss: 0.3333 - acc: 0.9345 - val_loss: 0.5239 - val_acc: 0.8894\n",
            "\n",
            "Epoch 00062: val_acc did not improve from 0.89000\n",
            "Epoch 63/100\n",
            "390/390 [==============================] - 29s 75ms/step - loss: 0.3260 - acc: 0.9358 - val_loss: 0.5307 - val_acc: 0.8903\n",
            "\n",
            "Epoch 00063: val_acc improved from 0.89000 to 0.89030, saving model to ../content/drive/My Drive/EVA_Proj/model_after.h5\n",
            "Epoch 64/100\n",
            "390/390 [==============================] - 29s 75ms/step - loss: 0.3277 - acc: 0.9348 - val_loss: 0.5577 - val_acc: 0.8797\n",
            "\n",
            "Epoch 00064: val_acc did not improve from 0.89030\n",
            "Epoch 65/100\n",
            "390/390 [==============================] - 29s 74ms/step - loss: 0.3245 - acc: 0.9353 - val_loss: 0.5364 - val_acc: 0.8870\n",
            "\n",
            "Epoch 00065: val_acc did not improve from 0.89030\n",
            "Epoch 66/100\n",
            "390/390 [==============================] - 29s 75ms/step - loss: 0.3245 - acc: 0.9356 - val_loss: 0.5265 - val_acc: 0.8876\n",
            "\n",
            "Epoch 00066: val_acc did not improve from 0.89030\n",
            "Epoch 67/100\n",
            "390/390 [==============================] - 29s 74ms/step - loss: 0.3240 - acc: 0.9343 - val_loss: 0.5376 - val_acc: 0.8870\n",
            "\n",
            "Epoch 00067: val_acc did not improve from 0.89030\n",
            "Epoch 68/100\n",
            "390/390 [==============================] - 29s 74ms/step - loss: 0.3201 - acc: 0.9369 - val_loss: 0.5391 - val_acc: 0.8823\n",
            "\n",
            "Epoch 00068: val_acc did not improve from 0.89030\n",
            "\n",
            "Epoch 00068: ReduceLROnPlateau reducing learning rate to 0.00032768002711236477.\n",
            "Epoch 69/100\n",
            "390/390 [==============================] - 29s 74ms/step - loss: 0.3141 - acc: 0.9388 - val_loss: 0.5126 - val_acc: 0.8922\n",
            "\n",
            "Epoch 00069: val_acc improved from 0.89030 to 0.89220, saving model to ../content/drive/My Drive/EVA_Proj/model_after.h5\n",
            "Epoch 70/100\n",
            "390/390 [==============================] - 29s 74ms/step - loss: 0.3054 - acc: 0.9406 - val_loss: 0.5201 - val_acc: 0.8873\n",
            "\n",
            "Epoch 00070: val_acc did not improve from 0.89220\n",
            "Epoch 71/100\n",
            "390/390 [==============================] - 29s 74ms/step - loss: 0.3055 - acc: 0.9401 - val_loss: 0.5360 - val_acc: 0.8865\n",
            "\n",
            "Epoch 00071: val_acc did not improve from 0.89220\n",
            "Epoch 72/100\n",
            "390/390 [==============================] - 29s 74ms/step - loss: 0.3045 - acc: 0.9394 - val_loss: 0.5251 - val_acc: 0.8910\n",
            "\n",
            "Epoch 00072: val_acc did not improve from 0.89220\n",
            "Epoch 73/100\n",
            "390/390 [==============================] - 29s 74ms/step - loss: 0.2991 - acc: 0.9421 - val_loss: 0.5289 - val_acc: 0.8900\n",
            "\n",
            "Epoch 00073: val_acc did not improve from 0.89220\n",
            "Epoch 74/100\n",
            "390/390 [==============================] - 29s 75ms/step - loss: 0.2942 - acc: 0.9434 - val_loss: 0.5116 - val_acc: 0.8902\n",
            "\n",
            "Epoch 00074: val_acc did not improve from 0.89220\n",
            "\n",
            "Epoch 00074: ReduceLROnPlateau reducing learning rate to 0.0002621440216898918.\n",
            "Epoch 75/100\n",
            "390/390 [==============================] - 29s 75ms/step - loss: 0.2871 - acc: 0.9456 - val_loss: 0.5213 - val_acc: 0.8926\n",
            "\n",
            "Epoch 00075: val_acc improved from 0.89220 to 0.89260, saving model to ../content/drive/My Drive/EVA_Proj/model_after.h5\n",
            "Epoch 76/100\n",
            "390/390 [==============================] - 29s 75ms/step - loss: 0.2832 - acc: 0.9466 - val_loss: 0.5215 - val_acc: 0.8917\n",
            "\n",
            "Epoch 00076: val_acc did not improve from 0.89260\n",
            "Epoch 77/100\n",
            "390/390 [==============================] - 29s 74ms/step - loss: 0.2814 - acc: 0.9470 - val_loss: 0.5131 - val_acc: 0.8947\n",
            "\n",
            "Epoch 00077: val_acc improved from 0.89260 to 0.89470, saving model to ../content/drive/My Drive/EVA_Proj/model_after.h5\n",
            "Epoch 78/100\n",
            "390/390 [==============================] - 29s 75ms/step - loss: 0.2819 - acc: 0.9468 - val_loss: 0.5365 - val_acc: 0.8863\n",
            "\n",
            "Epoch 00078: val_acc did not improve from 0.89470\n",
            "Epoch 79/100\n",
            "390/390 [==============================] - 29s 75ms/step - loss: 0.2755 - acc: 0.9491 - val_loss: 0.5263 - val_acc: 0.8905\n",
            "\n",
            "Epoch 00079: val_acc did not improve from 0.89470\n",
            "Epoch 80/100\n",
            "390/390 [==============================] - 29s 75ms/step - loss: 0.2748 - acc: 0.9482 - val_loss: 0.5075 - val_acc: 0.8938\n",
            "\n",
            "Epoch 00080: val_acc did not improve from 0.89470\n",
            "Epoch 81/100\n",
            "390/390 [==============================] - 29s 75ms/step - loss: 0.2704 - acc: 0.9494 - val_loss: 0.5410 - val_acc: 0.8901\n",
            "\n",
            "Epoch 00081: val_acc did not improve from 0.89470\n",
            "Epoch 82/100\n",
            "390/390 [==============================] - 29s 75ms/step - loss: 0.2708 - acc: 0.9489 - val_loss: 0.5125 - val_acc: 0.8948\n",
            "\n",
            "Epoch 00082: val_acc improved from 0.89470 to 0.89480, saving model to ../content/drive/My Drive/EVA_Proj/model_after.h5\n",
            "\n",
            "Epoch 00082: ReduceLROnPlateau reducing learning rate to 0.00020971521735191345.\n",
            "Epoch 83/100\n",
            "390/390 [==============================] - 29s 75ms/step - loss: 0.2691 - acc: 0.9495 - val_loss: 0.5073 - val_acc: 0.8931\n",
            "\n",
            "Epoch 00083: val_acc did not improve from 0.89480\n",
            "Epoch 84/100\n",
            "390/390 [==============================] - 29s 75ms/step - loss: 0.2634 - acc: 0.9511 - val_loss: 0.5069 - val_acc: 0.8952\n",
            "\n",
            "Epoch 00084: val_acc improved from 0.89480 to 0.89520, saving model to ../content/drive/My Drive/EVA_Proj/model_after.h5\n",
            "Epoch 85/100\n",
            "390/390 [==============================] - 29s 75ms/step - loss: 0.2607 - acc: 0.9513 - val_loss: 0.5074 - val_acc: 0.8948\n",
            "\n",
            "Epoch 00085: val_acc did not improve from 0.89520\n",
            "Epoch 86/100\n",
            "390/390 [==============================] - 29s 75ms/step - loss: 0.2562 - acc: 0.9536 - val_loss: 0.5025 - val_acc: 0.8943\n",
            "\n",
            "Epoch 00086: val_acc did not improve from 0.89520\n",
            "Epoch 87/100\n",
            "390/390 [==============================] - 29s 74ms/step - loss: 0.2539 - acc: 0.9540 - val_loss: 0.5013 - val_acc: 0.8935\n",
            "\n",
            "Epoch 00087: val_acc did not improve from 0.89520\n",
            "Epoch 88/100\n",
            "390/390 [==============================] - 29s 75ms/step - loss: 0.2523 - acc: 0.9533 - val_loss: 0.4988 - val_acc: 0.8952\n",
            "\n",
            "Epoch 00088: val_acc did not improve from 0.89520\n",
            "Epoch 89/100\n",
            "390/390 [==============================] - 29s 75ms/step - loss: 0.2533 - acc: 0.9523 - val_loss: 0.5054 - val_acc: 0.8956\n",
            "\n",
            "Epoch 00089: val_acc improved from 0.89520 to 0.89560, saving model to ../content/drive/My Drive/EVA_Proj/model_after.h5\n",
            "Epoch 90/100\n",
            "390/390 [==============================] - 29s 75ms/step - loss: 0.2530 - acc: 0.9533 - val_loss: 0.5187 - val_acc: 0.8912\n",
            "\n",
            "Epoch 00090: val_acc did not improve from 0.89560\n",
            "Epoch 91/100\n",
            "390/390 [==============================] - 30s 76ms/step - loss: 0.2536 - acc: 0.9518 - val_loss: 0.5179 - val_acc: 0.8904\n",
            "\n",
            "Epoch 00091: val_acc did not improve from 0.89560\n",
            "Epoch 92/100\n",
            "390/390 [==============================] - 30s 77ms/step - loss: 0.2481 - acc: 0.9536 - val_loss: 0.5134 - val_acc: 0.8934\n",
            "\n",
            "Epoch 00092: val_acc did not improve from 0.89560\n",
            "Epoch 93/100\n",
            "390/390 [==============================] - 30s 76ms/step - loss: 0.2461 - acc: 0.9558 - val_loss: 0.5109 - val_acc: 0.8931\n",
            "\n",
            "Epoch 00093: val_acc did not improve from 0.89560\n",
            "Epoch 94/100\n",
            "390/390 [==============================] - 29s 76ms/step - loss: 0.2470 - acc: 0.9539 - val_loss: 0.5129 - val_acc: 0.8934\n",
            "\n",
            "Epoch 00094: val_acc did not improve from 0.89560\n",
            "\n",
            "Epoch 00094: ReduceLROnPlateau reducing learning rate to 0.00016777217388153076.\n",
            "Epoch 95/100\n",
            "390/390 [==============================] - 30s 76ms/step - loss: 0.2423 - acc: 0.9563 - val_loss: 0.5063 - val_acc: 0.8969\n",
            "\n",
            "Epoch 00095: val_acc improved from 0.89560 to 0.89690, saving model to ../content/drive/My Drive/EVA_Proj/model_after.h5\n",
            "Epoch 96/100\n",
            "390/390 [==============================] - 30s 76ms/step - loss: 0.2405 - acc: 0.9561 - val_loss: 0.5066 - val_acc: 0.8957\n",
            "\n",
            "Epoch 00096: val_acc did not improve from 0.89690\n",
            "Epoch 97/100\n",
            "390/390 [==============================] - 30s 77ms/step - loss: 0.2393 - acc: 0.9564 - val_loss: 0.5083 - val_acc: 0.8949\n",
            "\n",
            "Epoch 00097: val_acc did not improve from 0.89690\n",
            "Epoch 98/100\n",
            "390/390 [==============================] - 30s 76ms/step - loss: 0.2353 - acc: 0.9576 - val_loss: 0.4991 - val_acc: 0.8968\n",
            "\n",
            "Epoch 00098: val_acc did not improve from 0.89690\n",
            "Epoch 99/100\n",
            "390/390 [==============================] - 29s 75ms/step - loss: 0.2349 - acc: 0.9569 - val_loss: 0.4983 - val_acc: 0.8995\n",
            "\n",
            "Epoch 00099: val_acc improved from 0.89690 to 0.89950, saving model to ../content/drive/My Drive/EVA_Proj/model_after.h5\n",
            "Epoch 100/100\n",
            "390/390 [==============================] - 29s 75ms/step - loss: 0.2365 - acc: 0.9560 - val_loss: 0.5090 - val_acc: 0.8943\n",
            "\n",
            "Epoch 00100: val_acc did not improve from 0.89950\n",
            "Model took 2955.90 seconds to train\n"
          ],
          "name": "stdout"
        },
        {
          "output_type": "display_data",
          "data": {
            "image/png": "[encoded data removed]",
            "text/plain": [
              "<Figure size 1080x360 with 2 Axes>"
            ]
          },
          "metadata": {
            "tags": []
          }
        },
        {
          "output_type": "stream",
          "text": [
            "Accuracy on test data is: 89.43\n"
          ],
          "name": "stdout"
        }
      ]
    },
    {
      "cell_type": "code",
      "metadata": {
        "id": "SwghmsbVE4xZ",
        "colab_type": "code",
        "colab": {}
      },
      "source": [
        "model=keras.models.load_model('../content/drive/My Drive/EVA_Proj/model_after.h5')"
      ],
      "execution_count": 0,
      "outputs": []
    },
    {
      "cell_type": "code",
      "metadata": {
        "id": "lE5VmNDBFYWj",
        "colab_type": "code",
        "outputId": "af4648b9-7dce-46e0-9030-edfe24571c71",
        "colab": {
          "base_uri": "https://localhost:8080/",
          "height": 51
        }
      },
      "source": [
        "score = model.evaluate(X_test, Y_test, batch_size=128)\n",
        "print (score[1])"
      ],
      "execution_count": 0,
      "outputs": [
        {
          "output_type": "stream",
          "text": [
            "10000/10000 [==============================] - 2s 249us/step\n",
            "0.8995\n"
          ],
          "name": "stdout"
        }
      ]
    },
    {
      "cell_type": "markdown",
      "metadata": {
        "id": "zHQIe_aVFeFA",
        "colab_type": "text"
      },
      "source": [
        "####Model Two Gradcam results - with Cutout"
      ]
    },
    {
      "cell_type": "code",
      "metadata": {
        "id": "nuVfvCsEFqNg",
        "colab_type": "code",
        "outputId": "1495549c-8298-46bb-e745-5116f598f3e3",
        "colab": {
          "base_uri": "https://localhost:8080/",
          "height": 351
        }
      },
      "source": [
        "import cv2\n",
        "from google.colab.patches import cv2_imshow\n",
        "\n",
        "images = [100,101,201,510,600,1000,1600,1601,3000,4000,5500,7000,7500,8000,9000,9999]\n",
        "for j in images:\n",
        "  x = testX[j]\n",
        "  x = np.expand_dims(x, axis=0)\n",
        "  preds = model.predict(x,batch_size=1)\n",
        "  class_idx = np.argmax(preds[0])\n",
        "  class_output = model.output[:, class_idx]\n",
        "  last_conv_layer = model.get_layer(\"conv2d_9\")\n",
        "\n",
        "  grads = K.gradients(class_output, last_conv_layer.output)[0]\n",
        "  pooled_grads = K.mean(grads, axis=(0, 1, 2))\n",
        "  iterate = K.function([model.input], [pooled_grads, last_conv_layer.output[0]])\n",
        "  pooled_grads_value, conv_layer_output_value = iterate([x])\n",
        "  for i in range(256):\n",
        "    conv_layer_output_value[:, :, i] *= pooled_grads_value[i]\n",
        "  \n",
        "  heatmap = np.mean(conv_layer_output_value, axis=-1)\n",
        "  heatmap = np.maximum(heatmap, 0)\n",
        "  heatmap /= np.max(heatmap) \n",
        "  img = (testX[j])\n",
        "  heatmap = cv2.resize(heatmap, (img.shape[1], img.shape[0]))\n",
        "  heatmap = np.uint8(255 * heatmap)\n",
        "  heatmap = cv2.applyColorMap(heatmap, cv2.COLORMAP_JET)\n",
        "  superimposed_img = cv2.addWeighted(img, 0.6, heatmap, 0.4, 0)\n",
        "  #cv2_imshow(img)\n",
        "  #cv2_imshow(superimposed_img)\n",
        "  concatimg = cv2.hconcat([img,superimposed_img])\n",
        "  # Display the concatenated image\n",
        "  print (j)\n",
        "  cv2_imshow(concatimg)\n",
        "  cv2.waitKey(0)\n",
        "  print (\" \")\n",
        "  j = j + 1\n"
      ],
      "execution_count": 0,
      "outputs": [
        {
          "output_type": "error",
          "ename": "ValueError",
          "evalue": "ignored",
          "traceback": [
            "\u001b[0;31m---------------------------------------------------------------------------\u001b[0m",
            "\u001b[0;31mValueError\u001b[0m                                Traceback (most recent call last)",
            "\u001b[0;32m<ipython-input-28-5f7d4b59afbb>\u001b[0m in \u001b[0;36m<module>\u001b[0;34m()\u001b[0m\n\u001b[1;32m      9\u001b[0m   \u001b[0mclass_idx\u001b[0m \u001b[0;34m=\u001b[0m \u001b[0mnp\u001b[0m\u001b[0;34m.\u001b[0m\u001b[0margmax\u001b[0m\u001b[0;34m(\u001b[0m\u001b[0mpreds\u001b[0m\u001b[0;34m[\u001b[0m\u001b[0;36m0\u001b[0m\u001b[0;34m]\u001b[0m\u001b[0;34m)\u001b[0m\u001b[0;34m\u001b[0m\u001b[0;34m\u001b[0m\u001b[0m\n\u001b[1;32m     10\u001b[0m   \u001b[0mclass_output\u001b[0m \u001b[0;34m=\u001b[0m \u001b[0mmodel\u001b[0m\u001b[0;34m.\u001b[0m\u001b[0moutput\u001b[0m\u001b[0;34m[\u001b[0m\u001b[0;34m:\u001b[0m\u001b[0;34m,\u001b[0m \u001b[0mclass_idx\u001b[0m\u001b[0;34m]\u001b[0m\u001b[0;34m\u001b[0m\u001b[0;34m\u001b[0m\u001b[0m\n\u001b[0;32m---> 11\u001b[0;31m   \u001b[0mlast_conv_layer\u001b[0m \u001b[0;34m=\u001b[0m \u001b[0mmodel\u001b[0m\u001b[0;34m.\u001b[0m\u001b[0mget_layer\u001b[0m\u001b[0;34m(\u001b[0m\u001b[0;34m\"conv2d_9\"\u001b[0m\u001b[0;34m)\u001b[0m\u001b[0;34m\u001b[0m\u001b[0;34m\u001b[0m\u001b[0m\n\u001b[0m\u001b[1;32m     12\u001b[0m \u001b[0;34m\u001b[0m\u001b[0m\n\u001b[1;32m     13\u001b[0m   \u001b[0mgrads\u001b[0m \u001b[0;34m=\u001b[0m \u001b[0mK\u001b[0m\u001b[0;34m.\u001b[0m\u001b[0mgradients\u001b[0m\u001b[0;34m(\u001b[0m\u001b[0mclass_output\u001b[0m\u001b[0;34m,\u001b[0m \u001b[0mlast_conv_layer\u001b[0m\u001b[0;34m.\u001b[0m\u001b[0moutput\u001b[0m\u001b[0;34m)\u001b[0m\u001b[0;34m[\u001b[0m\u001b[0;36m0\u001b[0m\u001b[0;34m]\u001b[0m\u001b[0;34m\u001b[0m\u001b[0;34m\u001b[0m\u001b[0m\n",
            "\u001b[0;32m/usr/local/lib/python3.6/dist-packages/keras/engine/network.py\u001b[0m in \u001b[0;36mget_layer\u001b[0;34m(self, name, index)\u001b[0m\n\u001b[1;32m    362\u001b[0m                 \u001b[0;32mreturn\u001b[0m \u001b[0mlayer\u001b[0m\u001b[0;34m\u001b[0m\u001b[0;34m\u001b[0m\u001b[0m\n\u001b[1;32m    363\u001b[0m \u001b[0;34m\u001b[0m\u001b[0m\n\u001b[0;32m--> 364\u001b[0;31m         \u001b[0;32mraise\u001b[0m \u001b[0mValueError\u001b[0m\u001b[0;34m(\u001b[0m\u001b[0;34m'No such layer: '\u001b[0m \u001b[0;34m+\u001b[0m \u001b[0mname\u001b[0m\u001b[0;34m)\u001b[0m\u001b[0;34m\u001b[0m\u001b[0;34m\u001b[0m\u001b[0m\n\u001b[0m\u001b[1;32m    365\u001b[0m \u001b[0;34m\u001b[0m\u001b[0m\n\u001b[1;32m    366\u001b[0m     \u001b[0;34m@\u001b[0m\u001b[0mproperty\u001b[0m\u001b[0;34m\u001b[0m\u001b[0;34m\u001b[0m\u001b[0m\n",
            "\u001b[0;31mValueError\u001b[0m: No such layer: conv2d_9"
          ]
        }
      ]
    },
    {
      "cell_type": "code",
      "metadata": {
        "id": "LR-uWzofw-ca",
        "colab_type": "code",
        "colab": {}
      },
      "source": [
        "# model.summary()"
      ],
      "execution_count": 0,
      "outputs": []
    },
    {
      "cell_type": "code",
      "metadata": {
        "id": "KhbisShhZe4Q",
        "colab_type": "code",
        "colab": {}
      },
      "source": [
        ""
      ],
      "execution_count": 0,
      "outputs": []
    }
  ]
}